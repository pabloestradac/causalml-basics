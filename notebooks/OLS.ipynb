{
 "cells": [
  {
   "cell_type": "markdown",
   "metadata": {},
   "source": [
    "# Ordinary Least Squares\n",
    "\n",
    "In this notebook we are going to explore the Ordinary Least Squares (OLS) method for linear regression. We will use the `statsmodels` library to perform the regression and explore its basic functionalities. We will also compare the results with the `pyfixest` library which is a faster alternative to `statsmodels` for the case of high-dimensional fixed effects models. Finally, we will explore the performance of OLS with high-dimensional covariates. \n",
    "\n",
    "This notebook is based on the [Getting Started with Statsmodels](https://www.statsmodels.org/stable/gettingstarted.html), [OLS Example with Statsmodels](https://www.statsmodels.org/stable/examples/notebooks/generated/ols.html), and [Getting Started with PyFixest](https://py-econometrics.github.io/pyfixest/quickstart.html) tutorials.\n"
   ]
  },
  {
   "cell_type": "code",
   "execution_count": 1,
   "metadata": {},
   "outputs": [
    {
     "data": {
      "text/html": [
       "\n",
       "            <div id=\"45aece\"></div>\n",
       "            <script type=\"text/javascript\" data-lets-plot-script=\"library\">\n",
       "                if(!window.letsPlotCallQueue) {\n",
       "                    window.letsPlotCallQueue = [];\n",
       "                }; \n",
       "                window.letsPlotCall = function(f) {\n",
       "                    window.letsPlotCallQueue.push(f);\n",
       "                };\n",
       "                (function() {\n",
       "                    var script = document.createElement(\"script\");\n",
       "                    script.type = \"text/javascript\";\n",
       "                    script.src = \"https://cdn.jsdelivr.net/gh/JetBrains/lets-plot@v4.2.0/js-package/distr/lets-plot.min.js\";\n",
       "                    script.onload = function() {\n",
       "                        window.letsPlotCall = function(f) {f();};\n",
       "                        window.letsPlotCallQueue.forEach(function(f) {f();});\n",
       "                        window.letsPlotCallQueue = [];\n",
       "                        \n",
       "                    };\n",
       "                    script.onerror = function(event) {\n",
       "                        window.letsPlotCall = function(f) {};    // noop\n",
       "                        window.letsPlotCallQueue = [];\n",
       "                        var div = document.createElement(\"div\");\n",
       "                        div.style.color = 'darkred';\n",
       "                        div.textContent = 'Error loading Lets-Plot JS';\n",
       "                        document.getElementById(\"45aece\").appendChild(div);\n",
       "                    };\n",
       "                    var e = document.getElementById(\"45aece\");\n",
       "                    e.appendChild(script);\n",
       "                })()\n",
       "            </script>\n",
       "            "
      ]
     },
     "metadata": {},
     "output_type": "display_data"
    },
    {
     "data": {
      "text/html": [
       "\n",
       "            <div id=\"N50XFS\"></div>\n",
       "            <script type=\"text/javascript\" data-lets-plot-script=\"library\">\n",
       "                if(!window.letsPlotCallQueue) {\n",
       "                    window.letsPlotCallQueue = [];\n",
       "                }; \n",
       "                window.letsPlotCall = function(f) {\n",
       "                    window.letsPlotCallQueue.push(f);\n",
       "                };\n",
       "                (function() {\n",
       "                    var script = document.createElement(\"script\");\n",
       "                    script.type = \"text/javascript\";\n",
       "                    script.src = \"https://cdn.jsdelivr.net/gh/JetBrains/lets-plot@v4.2.0/js-package/distr/lets-plot.min.js\";\n",
       "                    script.onload = function() {\n",
       "                        window.letsPlotCall = function(f) {f();};\n",
       "                        window.letsPlotCallQueue.forEach(function(f) {f();});\n",
       "                        window.letsPlotCallQueue = [];\n",
       "                        \n",
       "                    };\n",
       "                    script.onerror = function(event) {\n",
       "                        window.letsPlotCall = function(f) {};    // noop\n",
       "                        window.letsPlotCallQueue = [];\n",
       "                        var div = document.createElement(\"div\");\n",
       "                        div.style.color = 'darkred';\n",
       "                        div.textContent = 'Error loading Lets-Plot JS';\n",
       "                        document.getElementById(\"N50XFS\").appendChild(div);\n",
       "                    };\n",
       "                    var e = document.getElementById(\"N50XFS\");\n",
       "                    e.appendChild(script);\n",
       "                })()\n",
       "            </script>\n",
       "            "
      ]
     },
     "metadata": {},
     "output_type": "display_data"
    }
   ],
   "source": [
    "# Core libraries\n",
    "import numpy as np\n",
    "import pandas as pd\n",
    "import matplotlib.pyplot as plt\n",
    "\n",
    "# Statistical libraries\n",
    "import statsmodels.api as sm\n",
    "import statsmodels.formula.api as smf\n",
    "import pyfixest as pf\n",
    "\n",
    "%config InlineBackend.figure_format = \"retina\""
   ]
  },
  {
   "cell_type": "markdown",
   "metadata": {},
   "source": [
    "## OLS Estimation\n",
    "\n",
    "Artificial data:"
   ]
  },
  {
   "cell_type": "code",
   "execution_count": 2,
   "metadata": {},
   "outputs": [],
   "source": [
    "rng = np.random.default_rng(42)\n",
    "nsample = 100\n",
    "x = np.linspace(0, 10, 100)\n",
    "X = np.column_stack((x, x ** 2))\n",
    "beta = np.array([1, 0.1, 10])\n",
    "e = rng.normal(size=nsample)"
   ]
  },
  {
   "cell_type": "markdown",
   "metadata": {},
   "source": [
    "Our model needs an intercept so we add a column of 1s:"
   ]
  },
  {
   "cell_type": "code",
   "execution_count": 3,
   "metadata": {},
   "outputs": [],
   "source": [
    "X = sm.add_constant(X)\n",
    "y = np.dot(X, beta) + e"
   ]
  },
  {
   "cell_type": "markdown",
   "metadata": {},
   "source": [
    "Fit and summary:\n",
    "\n",
    "(Use the `cov_type` argument to set the covariance estimator to use)"
   ]
  },
  {
   "cell_type": "code",
   "execution_count": 4,
   "metadata": {},
   "outputs": [
    {
     "name": "stdout",
     "output_type": "stream",
     "text": [
      "                            OLS Regression Results                            \n",
      "==============================================================================\n",
      "Dep. Variable:                      y   R-squared:                       1.000\n",
      "Model:                            OLS   Adj. R-squared:                  1.000\n",
      "Method:                 Least Squares   F-statistic:                 8.187e+06\n",
      "Date:                Fri, 28 Feb 2025   Prob (F-statistic):          2.97e-254\n",
      "Time:                        10:34:33   Log-Likelihood:                -112.82\n",
      "No. Observations:                 100   AIC:                             231.6\n",
      "Df Residuals:                      97   BIC:                             239.5\n",
      "Df Model:                           2                                         \n",
      "Covariance Type:                  HC1                                         \n",
      "==============================================================================\n",
      "                 coef    std err          z      P>|z|      [0.025      0.975]\n",
      "------------------------------------------------------------------------------\n",
      "const          0.8294      0.261      3.182      0.001       0.318       1.340\n",
      "x1             0.2581      0.115      2.238      0.025       0.032       0.484\n",
      "x2             9.9800      0.011    927.332      0.000       9.959      10.001\n",
      "==============================================================================\n",
      "Omnibus:                        1.054   Durbin-Watson:                   1.962\n",
      "Prob(Omnibus):                  0.590   Jarque-Bera (JB):                1.083\n",
      "Skew:                          -0.139   Prob(JB):                        0.582\n",
      "Kurtosis:                       2.573   Cond. No.                         144.\n",
      "==============================================================================\n",
      "\n",
      "Notes:\n",
      "[1] Standard Errors are heteroscedasticity robust (HC1)\n"
     ]
    }
   ],
   "source": [
    "model = sm.OLS(y, X)\n",
    "res1 = model.fit(cov_type='HC1')\n",
    "print(res1.summary())"
   ]
  },
  {
   "cell_type": "code",
   "execution_count": 5,
   "metadata": {},
   "outputs": [
    {
     "name": "stdout",
     "output_type": "stream",
     "text": [
      "Parameters: [0.83 0.26 9.98]\n",
      "Standard errors: [0.26 0.12 0.01]\n",
      "R-squared: 1.0\n"
     ]
    }
   ],
   "source": [
    "# Print out parameters, standard errors, and r-squared with 2 decimal places\n",
    "print('Parameters:', res1.params.round(2))\n",
    "print('Standard errors:', res1.bse.round(2))\n",
    "print('R-squared:', res1.rsquared.round(2))\n"
   ]
  },
  {
   "cell_type": "markdown",
   "metadata": {},
   "source": [
    "## OLS with Fixed Effects"
   ]
  },
  {
   "cell_type": "code",
   "execution_count": 6,
   "metadata": {},
   "outputs": [
    {
     "name": "stdout",
     "output_type": "stream",
     "text": [
      "<class 'pandas.core.frame.DataFrame'>\n",
      "RangeIndex: 1000 entries, 0 to 999\n",
      "Data columns (total 11 columns):\n",
      " #   Column    Non-Null Count  Dtype  \n",
      "---  ------    --------------  -----  \n",
      " 0   Y         999 non-null    float64\n",
      " 1   Y2        1000 non-null   float64\n",
      " 2   X1        999 non-null    float64\n",
      " 3   X2        1000 non-null   float64\n",
      " 4   f1        999 non-null    float64\n",
      " 5   f2        1000 non-null   float64\n",
      " 6   f3        1000 non-null   float64\n",
      " 7   group_id  1000 non-null   float64\n",
      " 8   Z1        999 non-null    float64\n",
      " 9   Z2        1000 non-null   float64\n",
      " 10  weights   1000 non-null   float64\n",
      "dtypes: float64(11)\n",
      "memory usage: 86.1 KB\n"
     ]
    },
    {
     "data": {
      "text/html": [
       "<div>\n",
       "<style scoped>\n",
       "    .dataframe tbody tr th:only-of-type {\n",
       "        vertical-align: middle;\n",
       "    }\n",
       "\n",
       "    .dataframe tbody tr th {\n",
       "        vertical-align: top;\n",
       "    }\n",
       "\n",
       "    .dataframe thead th {\n",
       "        text-align: right;\n",
       "    }\n",
       "</style>\n",
       "<table border=\"1\" class=\"dataframe\">\n",
       "  <thead>\n",
       "    <tr style=\"text-align: right;\">\n",
       "      <th></th>\n",
       "      <th>Y</th>\n",
       "      <th>Y2</th>\n",
       "      <th>X1</th>\n",
       "      <th>X2</th>\n",
       "      <th>f1</th>\n",
       "      <th>f2</th>\n",
       "      <th>f3</th>\n",
       "      <th>group_id</th>\n",
       "      <th>Z1</th>\n",
       "      <th>Z2</th>\n",
       "      <th>weights</th>\n",
       "    </tr>\n",
       "  </thead>\n",
       "  <tbody>\n",
       "    <tr>\n",
       "      <th>0</th>\n",
       "      <td>NaN</td>\n",
       "      <td>2.357103</td>\n",
       "      <td>0.0</td>\n",
       "      <td>0.457858</td>\n",
       "      <td>15.0</td>\n",
       "      <td>0.0</td>\n",
       "      <td>7.0</td>\n",
       "      <td>9.0</td>\n",
       "      <td>-0.330607</td>\n",
       "      <td>1.054826</td>\n",
       "      <td>0.661478</td>\n",
       "    </tr>\n",
       "    <tr>\n",
       "      <th>1</th>\n",
       "      <td>-1.458643</td>\n",
       "      <td>5.163147</td>\n",
       "      <td>NaN</td>\n",
       "      <td>-4.998406</td>\n",
       "      <td>6.0</td>\n",
       "      <td>21.0</td>\n",
       "      <td>4.0</td>\n",
       "      <td>8.0</td>\n",
       "      <td>NaN</td>\n",
       "      <td>-4.113690</td>\n",
       "      <td>0.772732</td>\n",
       "    </tr>\n",
       "    <tr>\n",
       "      <th>2</th>\n",
       "      <td>0.169132</td>\n",
       "      <td>0.751140</td>\n",
       "      <td>2.0</td>\n",
       "      <td>1.558480</td>\n",
       "      <td>NaN</td>\n",
       "      <td>1.0</td>\n",
       "      <td>7.0</td>\n",
       "      <td>16.0</td>\n",
       "      <td>1.207778</td>\n",
       "      <td>0.465282</td>\n",
       "      <td>0.990929</td>\n",
       "    </tr>\n",
       "    <tr>\n",
       "      <th>3</th>\n",
       "      <td>3.319513</td>\n",
       "      <td>-2.656368</td>\n",
       "      <td>1.0</td>\n",
       "      <td>1.560402</td>\n",
       "      <td>1.0</td>\n",
       "      <td>10.0</td>\n",
       "      <td>11.0</td>\n",
       "      <td>3.0</td>\n",
       "      <td>2.869997</td>\n",
       "      <td>0.467570</td>\n",
       "      <td>0.021123</td>\n",
       "    </tr>\n",
       "    <tr>\n",
       "      <th>4</th>\n",
       "      <td>0.134420</td>\n",
       "      <td>-1.866416</td>\n",
       "      <td>2.0</td>\n",
       "      <td>-3.472232</td>\n",
       "      <td>19.0</td>\n",
       "      <td>20.0</td>\n",
       "      <td>6.0</td>\n",
       "      <td>14.0</td>\n",
       "      <td>0.835819</td>\n",
       "      <td>-3.115669</td>\n",
       "      <td>0.790815</td>\n",
       "    </tr>\n",
       "  </tbody>\n",
       "</table>\n",
       "</div>"
      ],
      "text/plain": [
       "          Y        Y2   X1        X2    f1    f2    f3  group_id        Z1  \\\n",
       "0       NaN  2.357103  0.0  0.457858  15.0   0.0   7.0       9.0 -0.330607   \n",
       "1 -1.458643  5.163147  NaN -4.998406   6.0  21.0   4.0       8.0       NaN   \n",
       "2  0.169132  0.751140  2.0  1.558480   NaN   1.0   7.0      16.0  1.207778   \n",
       "3  3.319513 -2.656368  1.0  1.560402   1.0  10.0  11.0       3.0  2.869997   \n",
       "4  0.134420 -1.866416  2.0 -3.472232  19.0  20.0   6.0      14.0  0.835819   \n",
       "\n",
       "         Z2   weights  \n",
       "0  1.054826  0.661478  \n",
       "1 -4.113690  0.772732  \n",
       "2  0.465282  0.990929  \n",
       "3  0.467570  0.021123  \n",
       "4 -3.115669  0.790815  "
      ]
     },
     "execution_count": 6,
     "metadata": {},
     "output_type": "execute_result"
    }
   ],
   "source": [
    "data = pf.get_data()\n",
    "data.info()\n",
    "data.head()"
   ]
  },
  {
   "cell_type": "markdown",
   "metadata": {},
   "source": [
    "We are interested in the relation between the dependent variable `Y` and the independent variables `X1` using a fixed effect model for `group_id`. Let’s see how the data looks like:"
   ]
  },
  {
   "cell_type": "code",
   "execution_count": 7,
   "metadata": {},
   "outputs": [
    {
     "data": {
      "image/png": "[encoded data removed]",
      "text/plain": [
       "<Figure size 640x480 with 2 Axes>"
      ]
     },
     "metadata": {
      "image/png": {
       "height": 438,
       "width": 557
      }
     },
     "output_type": "display_data"
    }
   ],
   "source": [
    "data.plot(kind=\"scatter\", x=\"X1\", y=\"Y\", c=\"group_id\", colormap=\"viridis\")\n",
    "plt.show()"
   ]
  },
  {
   "cell_type": "markdown",
   "metadata": {},
   "source": [
    "Using `pyfixest` we can estimate the fixed effects model:"
   ]
  },
  {
   "cell_type": "code",
   "execution_count": 8,
   "metadata": {},
   "outputs": [
    {
     "name": "stderr",
     "output_type": "stream",
     "text": [
      "OMP: Info #276: omp_set_nested routine deprecated, please use omp_set_max_active_levels instead.\n"
     ]
    },
    {
     "name": "stdout",
     "output_type": "stream",
     "text": [
      "###\n",
      "\n",
      "Estimation:  OLS\n",
      "Dep. var.: Y, Fixed effects: group_id\n",
      "Inference:  HC1\n",
      "Observations:  998\n",
      "\n",
      "| Coefficient   |   Estimate |   Std. Error |   t value |   Pr(>|t|) |   2.5% |   97.5% |\n",
      "|:--------------|-----------:|-------------:|----------:|-----------:|-------:|--------:|\n",
      "| X1            |     -1.019 |        0.082 |   -12.352 |      0.000 | -1.181 |  -0.857 |\n",
      "---\n",
      "RMSE: 2.141 R2: 0.137 R2 Within: 0.126 \n"
     ]
    }
   ],
   "source": [
    "res2 = pf.feols(fml=\"Y ~ X1 | group_id\", data=data, vcov=\"HC1\")\n",
    "res2.summary()"
   ]
  },
  {
   "cell_type": "markdown",
   "metadata": {},
   "source": [
    "We can also estimate the model using `statsmodels` formula API:"
   ]
  },
  {
   "cell_type": "code",
   "execution_count": 9,
   "metadata": {},
   "outputs": [
    {
     "name": "stdout",
     "output_type": "stream",
     "text": [
      "                            OLS Regression Results                            \n",
      "==============================================================================\n",
      "Dep. Variable:                      Y   R-squared:                       0.137\n",
      "Model:                            OLS   Adj. R-squared:                  0.120\n",
      "Method:                 Least Squares   F-statistic:                     8.529\n",
      "Date:                Fri, 28 Feb 2025   Prob (F-statistic):           1.27e-22\n",
      "Time:                        10:34:38   Log-Likelihood:                -2175.8\n",
      "No. Observations:                 998   AIC:                             4392.\n",
      "Df Residuals:                     978   BIC:                             4490.\n",
      "Df Model:                          19                                         \n",
      "Covariance Type:                  HC1                                         \n",
      "=======================================================================================\n",
      "                          coef    std err          z      P>|z|      [0.025      0.975]\n",
      "---------------------------------------------------------------------------------------\n",
      "Intercept               0.7604      0.288      2.640      0.008       0.196       1.325\n",
      "C(group_id)[T.1.0]      0.3800      0.451      0.844      0.399      -0.503       1.263\n",
      "C(group_id)[T.2.0]      0.0841      0.389      0.216      0.829      -0.679       0.847\n",
      "C(group_id)[T.3.0]      0.7901      0.415      1.904      0.057      -0.023       1.603\n",
      "C(group_id)[T.4.0]     -0.1890      0.388     -0.487      0.626      -0.949       0.571\n",
      "C(group_id)[T.5.0]      0.5367      0.388      1.385      0.166      -0.223       1.296\n",
      "C(group_id)[T.6.0]      0.3067      0.398      0.771      0.441      -0.473       1.086\n",
      "C(group_id)[T.7.0]      0.0150      0.422      0.035      0.972      -0.813       0.843\n",
      "C(group_id)[T.8.0]      0.3822      0.406      0.941      0.347      -0.414       1.178\n",
      "C(group_id)[T.9.0]      0.2193      0.417      0.526      0.599      -0.598       1.036\n",
      "C(group_id)[T.10.0]    -0.3631      0.422     -0.861      0.389      -1.190       0.464\n",
      "C(group_id)[T.11.0]     0.2012      0.387      0.520      0.603      -0.558       0.960\n",
      "C(group_id)[T.12.0]    -0.1101      0.410     -0.268      0.788      -0.914       0.693\n",
      "C(group_id)[T.13.0]     0.1262      0.440      0.287      0.774      -0.735       0.988\n",
      "C(group_id)[T.14.0]     0.3529      0.416      0.848      0.397      -0.463       1.169\n",
      "C(group_id)[T.15.0]     0.4687      0.398      1.179      0.238      -0.311       1.248\n",
      "C(group_id)[T.16.0]    -0.1346      0.396     -0.340      0.734      -0.912       0.642\n",
      "C(group_id)[T.17.0]    -0.0053      0.401     -0.013      0.989      -0.791       0.780\n",
      "C(group_id)[T.18.0]     0.2830      0.403      0.702      0.483      -0.507       1.073\n",
      "X1                     -1.0190      0.083    -12.234      0.000      -1.182      -0.856\n",
      "==============================================================================\n",
      "Omnibus:                        5.287   Durbin-Watson:                   1.959\n",
      "Prob(Omnibus):                  0.071   Jarque-Bera (JB):                4.088\n",
      "Skew:                          -0.021   Prob(JB):                        0.130\n",
      "Kurtosis:                       2.689   Cond. No.                         30.8\n",
      "==============================================================================\n",
      "\n",
      "Notes:\n",
      "[1] Standard Errors are heteroscedasticity robust (HC1)\n"
     ]
    }
   ],
   "source": [
    "res3 = smf.ols(\"Y ~ X1 + C(group_id)\", data=data).fit(cov_type='HC1')\n",
    "print(res3.summary())"
   ]
  },
  {
   "cell_type": "markdown",
   "metadata": {},
   "source": [
    "### To-do"
   ]
  },
  {
   "cell_type": "code",
   "execution_count": 10,
   "metadata": {},
   "outputs": [
    {
     "name": "stdout",
     "output_type": "stream",
     "text": [
      "                            OLS Regression Results                            \n",
      "==============================================================================\n",
      "Dep. Variable:                      Y   R-squared:                       0.137\n",
      "Model:                            OLS   Adj. R-squared:                  0.120\n",
      "Method:                 Least Squares   F-statistic:                     8.529\n",
      "Date:                Fri, 28 Feb 2025   Prob (F-statistic):           1.27e-22\n",
      "Time:                        10:34:38   Log-Likelihood:                -2175.8\n",
      "No. Observations:                 998   AIC:                             4392.\n",
      "Df Residuals:                     978   BIC:                             4490.\n",
      "Df Model:                          19                                         \n",
      "Covariance Type:                  HC1                                         \n",
      "==============================================================================\n",
      "                 coef    std err          z      P>|z|      [0.025      0.975]\n",
      "------------------------------------------------------------------------------\n",
      "const          0.7604      0.288      2.640      0.008       0.196       1.325\n",
      "X1            -1.0190      0.083    -12.234      0.000      -1.182      -0.856\n",
      "group_1        0.3800      0.451      0.844      0.399      -0.503       1.263\n",
      "group_2        0.0841      0.389      0.216      0.829      -0.679       0.847\n",
      "group_3        0.7901      0.415      1.904      0.057      -0.023       1.603\n",
      "group_4       -0.1890      0.388     -0.487      0.626      -0.949       0.571\n",
      "group_5        0.5367      0.388      1.385      0.166      -0.223       1.296\n",
      "group_6        0.3067      0.398      0.771      0.441      -0.473       1.086\n",
      "group_7        0.0150      0.422      0.035      0.972      -0.813       0.843\n",
      "group_8        0.3822      0.406      0.941      0.347      -0.414       1.178\n",
      "group_9        0.2193      0.417      0.526      0.599      -0.598       1.036\n",
      "group_10      -0.3631      0.422     -0.861      0.389      -1.190       0.464\n",
      "group_11       0.2012      0.387      0.520      0.603      -0.558       0.960\n",
      "group_12      -0.1101      0.410     -0.268      0.788      -0.914       0.693\n",
      "group_13       0.1262      0.440      0.287      0.774      -0.735       0.988\n",
      "group_14       0.3529      0.416      0.848      0.397      -0.463       1.169\n",
      "group_15       0.4687      0.398      1.179      0.238      -0.311       1.248\n",
      "group_16      -0.1346      0.396     -0.340      0.734      -0.912       0.642\n",
      "group_17      -0.0053      0.401     -0.013      0.989      -0.791       0.780\n",
      "group_18       0.2830      0.403      0.702      0.483      -0.507       1.073\n",
      "==============================================================================\n",
      "Omnibus:                        5.287   Durbin-Watson:                   1.959\n",
      "Prob(Omnibus):                  0.071   Jarque-Bera (JB):                4.088\n",
      "Skew:                          -0.021   Prob(JB):                        0.130\n",
      "Kurtosis:                       2.689   Cond. No.                         30.8\n",
      "==============================================================================\n",
      "\n",
      "Notes:\n",
      "[1] Standard Errors are heteroscedasticity robust (HC1)\n"
     ]
    }
   ],
   "source": [
    "# Instead of using the formula interface, we can also use the design matrix interface\n",
    "data_nonan = data[[\"Y\", \"X1\", \"group_id\"]].dropna()\n",
    "y = data_nonan[\"Y\"]\n",
    "group_dummies = pd.get_dummies(data_nonan[\"group_id\"].astype('int'), drop_first=True, prefix=\"group\") * 1.0\n",
    "X = pd.concat([data_nonan[\"X1\"], group_dummies], axis=1)\n",
    "X = sm.add_constant(X)\n",
    "\n",
    "res4 = sm.OLS(y, X).fit(cov_type='HC1')\n",
    "print(res4.summary())"
   ]
  },
  {
   "cell_type": "markdown",
   "metadata": {},
   "source": [
    "## Multicollinearity\n",
    "\n",
    "The Longley dataset is well known to have high multicollinearity. That is, the exogenous predictors are highly correlated."
   ]
  },
  {
   "cell_type": "code",
   "execution_count": 11,
   "metadata": {},
   "outputs": [
    {
     "name": "stdout",
     "output_type": "stream",
     "text": [
      "                            OLS Regression Results                            \n",
      "==============================================================================\n",
      "Dep. Variable:                 TOTEMP   R-squared:                       0.995\n",
      "Model:                            OLS   Adj. R-squared:                  0.992\n",
      "Method:                 Least Squares   F-statistic:                     330.3\n",
      "Date:                Fri, 28 Feb 2025   Prob (F-statistic):           4.98e-10\n",
      "Time:                        10:34:38   Log-Likelihood:                -109.62\n",
      "No. Observations:                  16   AIC:                             233.2\n",
      "Df Residuals:                       9   BIC:                             238.6\n",
      "Df Model:                           6                                         \n",
      "Covariance Type:            nonrobust                                         \n",
      "==============================================================================\n",
      "                 coef    std err          t      P>|t|      [0.025      0.975]\n",
      "------------------------------------------------------------------------------\n",
      "const      -3.482e+06    8.9e+05     -3.911      0.004    -5.5e+06   -1.47e+06\n",
      "GNPDEFL       15.0619     84.915      0.177      0.863    -177.029     207.153\n",
      "GNP           -0.0358      0.033     -1.070      0.313      -0.112       0.040\n",
      "UNEMP         -2.0202      0.488     -4.136      0.003      -3.125      -0.915\n",
      "ARMED         -1.0332      0.214     -4.822      0.001      -1.518      -0.549\n",
      "POP           -0.0511      0.226     -0.226      0.826      -0.563       0.460\n",
      "YEAR        1829.1515    455.478      4.016      0.003     798.788    2859.515\n",
      "==============================================================================\n",
      "Omnibus:                        0.749   Durbin-Watson:                   2.559\n",
      "Prob(Omnibus):                  0.688   Jarque-Bera (JB):                0.684\n",
      "Skew:                           0.420   Prob(JB):                        0.710\n",
      "Kurtosis:                       2.434   Cond. No.                     4.86e+09\n",
      "==============================================================================\n",
      "\n",
      "Notes:\n",
      "[1] Standard Errors assume that the covariance matrix of the errors is correctly specified.\n",
      "[2] The condition number is large, 4.86e+09. This might indicate that there are\n",
      "strong multicollinearity or other numerical problems.\n"
     ]
    },
    {
     "name": "stderr",
     "output_type": "stream",
     "text": [
      "/Users/pablo/opt/anaconda3/envs/causalML/lib/python3.9/site-packages/scipy/stats/_stats_py.py:1971: UserWarning: kurtosistest only valid for n>=20 ... continuing anyway, n=16\n",
      "  k, _ = kurtosistest(a, axis)\n"
     ]
    }
   ],
   "source": [
    "from statsmodels.datasets.longley import load_pandas\n",
    "\n",
    "y = load_pandas().endog\n",
    "X = load_pandas().exog\n",
    "X = sm.add_constant(X)\n",
    "\n",
    "ols_model = sm.OLS(y, X)\n",
    "ols_results = ols_model.fit()\n",
    "print(ols_results.summary())"
   ]
  },
  {
   "cell_type": "markdown",
   "metadata": {},
   "source": [
    "#### Condition number\n",
    "\n",
    "One way to assess multicollinearity is to compute the condition number. Values over 20 are worrisome (see Greene 4.9)."
   ]
  },
  {
   "cell_type": "code",
   "execution_count": 12,
   "metadata": {},
   "outputs": [],
   "source": [
    "norm_x = X.values\n",
    "for i, name in enumerate(X):\n",
    "    if name == \"const\":\n",
    "        continue\n",
    "    norm_x[:, i] = X[name] / np.linalg.norm(X[name])\n",
    "norm_xtx = np.dot(norm_x.T, norm_x)"
   ]
  },
  {
   "cell_type": "markdown",
   "metadata": {},
   "source": [
    "Then, we take the square root of the ratio of the biggest to the smallest eigen values. "
   ]
  },
  {
   "cell_type": "code",
   "execution_count": 13,
   "metadata": {},
   "outputs": [
    {
     "name": "stdout",
     "output_type": "stream",
     "text": [
      "56240.86919642868\n"
     ]
    }
   ],
   "source": [
    "eigs = np.linalg.eigvals(norm_xtx)\n",
    "condition_number = np.sqrt(eigs.max() / eigs.min())\n",
    "print(condition_number)"
   ]
  },
  {
   "cell_type": "markdown",
   "metadata": {},
   "source": [
    "#### Dropping an observation\n",
    "\n",
    "Greene also points out that dropping a single observation can have a dramatic effect on the coefficient estimates: "
   ]
  },
  {
   "cell_type": "code",
   "execution_count": 14,
   "metadata": {},
   "outputs": [
    {
     "name": "stdout",
     "output_type": "stream",
     "text": [
      "Percentage change 4.55%\n",
      "Percentage change -105.20%\n",
      "Percentage change -3.43%\n",
      "Percentage change 2.92%\n",
      "Percentage change 3.32%\n",
      "Percentage change 97.06%\n",
      "Percentage change 4.64%\n",
      "\n"
     ]
    }
   ],
   "source": [
    "ols_results2 = sm.OLS(y.iloc[:14], X.iloc[:14]).fit()\n",
    "print(\n",
    "    \"Percentage change %4.2f%%\\n\"\n",
    "    * 7\n",
    "    % tuple(\n",
    "        [\n",
    "            i\n",
    "            for i in (ols_results2.params - ols_results.params)\n",
    "            / ols_results.params\n",
    "            * 100\n",
    "        ]\n",
    "    )\n",
    ")"
   ]
  },
  {
   "cell_type": "markdown",
   "metadata": {},
   "source": [
    "## Overfitting\n",
    "\n",
    "Example 1.2.1 (Overfitting Example) Suppose $X \\sim N\\left(0, I_p\\right)$ and $Y \\sim N(0,1)$ are statistically independent. It follows that the best linear predictor of $Y$ is $\\beta^{\\prime} X = 0$ and that $R_{pop}^2=0$.\n",
    "\n",
    "- If $p=n$, then the typical $R_{\\text {sample }}^2$ is $1 \\gg 0$.\n",
    "- If $p=n / 2$, then the typical $R_{\\text {sample }}^2$ is about $.5 \\gg 0$.\n",
    "- If $p=n / 20$, then the typical $R_{\\text {sample }}^2$ is about $.05>0$.\n",
    "\n",
    "These results can be deduced by simulation or analytically."
   ]
  },
  {
   "cell_type": "code",
   "execution_count": 15,
   "metadata": {},
   "outputs": [
    {
     "name": "stdout",
     "output_type": "stream",
     "text": [
      "p/n is 0.5\n",
      "R-squared is 0.597\n",
      "Adjusted R-squared is 0.194\n"
     ]
    }
   ],
   "source": [
    "n = 100\n",
    "p = int(n/2)\n",
    "X = np.random.normal(size=(n, p))\n",
    "y = np.random.normal(size=(n, 1))\n",
    "res = sm.OLS(y, X).fit()\n",
    "\n",
    "print(f\"p/n is {p/n if n != 0 else np.inf}\")\n",
    "print(f\"R-squared is {res.rsquared.round(3)}\")\n",
    "print(f\"Adjusted R-squared is {res.rsquared_adj.round(3)}\")"
   ]
  },
  {
   "cell_type": "code",
   "execution_count": null,
   "metadata": {},
   "outputs": [],
   "source": []
  }
 ],
 "metadata": {
  "kernelspec": {
   "display_name": "causalML",
   "language": "python",
   "name": "python3"
  },
  "language_info": {
   "codemirror_mode": {
    "name": "ipython",
    "version": 3
   },
   "file_extension": ".py",
   "mimetype": "text/x-python",
   "name": "python",
   "nbconvert_exporter": "python",
   "pygments_lexer": "ipython3",
   "version": "3.9.18"
  }
 },
 "nbformat": 4,
 "nbformat_minor": 4
}
