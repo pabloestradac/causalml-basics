{
 "cells": [
  {
   "cell_type": "markdown",
   "metadata": {},
   "source": [
    "# Churn Prediction\n",
    "\n",
    "The dataset used in this project contains information about customer transactions and demographics. The original dataset is from Kaggle and can be found [here](https://www.kaggle.com/datasets/computingvictor/transactions-fraud-datasets). It has been modified for the purpose of this project.\n",
    "\n",
    "The objective is to build a predictive model that can accurately classify whether a customer will churn based on these features."
   ]
  },
  {
   "cell_type": "code",
   "execution_count": 1,
   "metadata": {},
   "outputs": [],
   "source": [
    "# Core libraries\n",
    "import numpy as np\n",
    "import pandas as pd\n",
    "import matplotlib.pyplot as plt\n",
    "\n",
    "import warnings\n",
    "warnings.simplefilter('ignore')\n",
    "\n",
    "%config InlineBackend.figure_format = \"retina\""
   ]
  },
  {
   "cell_type": "markdown",
   "metadata": {},
   "source": [
    "## Data"
   ]
  },
  {
   "cell_type": "code",
   "execution_count": 2,
   "metadata": {},
   "outputs": [
    {
     "data": {
      "text/html": [
       "<div>\n",
       "<style scoped>\n",
       "    .dataframe tbody tr th:only-of-type {\n",
       "        vertical-align: middle;\n",
       "    }\n",
       "\n",
       "    .dataframe tbody tr th {\n",
       "        vertical-align: top;\n",
       "    }\n",
       "\n",
       "    .dataframe thead th {\n",
       "        text-align: right;\n",
       "    }\n",
       "</style>\n",
       "<table border=\"1\" class=\"dataframe\">\n",
       "  <thead>\n",
       "    <tr style=\"text-align: right;\">\n",
       "      <th></th>\n",
       "      <th>num_transactions</th>\n",
       "      <th>total_amount</th>\n",
       "      <th>avg_amount</th>\n",
       "      <th>std_amount</th>\n",
       "      <th>churn</th>\n",
       "      <th>current_age</th>\n",
       "      <th>yearly_income</th>\n",
       "      <th>total_debt</th>\n",
       "      <th>credit_score</th>\n",
       "      <th>num_credit_cards</th>\n",
       "    </tr>\n",
       "  </thead>\n",
       "  <tbody>\n",
       "    <tr>\n",
       "      <th>count</th>\n",
       "      <td>1219.00</td>\n",
       "      <td>1219.00</td>\n",
       "      <td>1219.00</td>\n",
       "      <td>1219.00</td>\n",
       "      <td>1219.00</td>\n",
       "      <td>1219.00</td>\n",
       "      <td>1219.00</td>\n",
       "      <td>1219.00</td>\n",
       "      <td>1219.00</td>\n",
       "      <td>1219.00</td>\n",
       "    </tr>\n",
       "    <tr>\n",
       "      <th>mean</th>\n",
       "      <td>10915.43</td>\n",
       "      <td>469102.15</td>\n",
       "      <td>43.91</td>\n",
       "      <td>78.71</td>\n",
       "      <td>0.03</td>\n",
       "      <td>53.05</td>\n",
       "      <td>45117.95</td>\n",
       "      <td>58196.86</td>\n",
       "      <td>713.22</td>\n",
       "      <td>3.70</td>\n",
       "    </tr>\n",
       "    <tr>\n",
       "      <th>std</th>\n",
       "      <td>5607.36</td>\n",
       "      <td>292602.85</td>\n",
       "      <td>17.48</td>\n",
       "      <td>27.27</td>\n",
       "      <td>0.18</td>\n",
       "      <td>15.66</td>\n",
       "      <td>23292.43</td>\n",
       "      <td>51255.43</td>\n",
       "      <td>65.55</td>\n",
       "      <td>1.57</td>\n",
       "    </tr>\n",
       "    <tr>\n",
       "      <th>min</th>\n",
       "      <td>760.00</td>\n",
       "      <td>26605.34</td>\n",
       "      <td>5.34</td>\n",
       "      <td>9.71</td>\n",
       "      <td>0.00</td>\n",
       "      <td>23.00</td>\n",
       "      <td>1.00</td>\n",
       "      <td>0.00</td>\n",
       "      <td>488.00</td>\n",
       "      <td>1.00</td>\n",
       "    </tr>\n",
       "    <tr>\n",
       "      <th>25%</th>\n",
       "      <td>7223.50</td>\n",
       "      <td>269693.84</td>\n",
       "      <td>32.22</td>\n",
       "      <td>61.25</td>\n",
       "      <td>0.00</td>\n",
       "      <td>41.00</td>\n",
       "      <td>32075.00</td>\n",
       "      <td>18527.50</td>\n",
       "      <td>684.00</td>\n",
       "      <td>3.00</td>\n",
       "    </tr>\n",
       "    <tr>\n",
       "      <th>50%</th>\n",
       "      <td>9832.00</td>\n",
       "      <td>398837.16</td>\n",
       "      <td>40.72</td>\n",
       "      <td>74.25</td>\n",
       "      <td>0.00</td>\n",
       "      <td>51.00</td>\n",
       "      <td>40012.00</td>\n",
       "      <td>51984.00</td>\n",
       "      <td>715.00</td>\n",
       "      <td>4.00</td>\n",
       "    </tr>\n",
       "    <tr>\n",
       "      <th>75%</th>\n",
       "      <td>13349.00</td>\n",
       "      <td>597774.02</td>\n",
       "      <td>52.55</td>\n",
       "      <td>91.87</td>\n",
       "      <td>0.00</td>\n",
       "      <td>63.00</td>\n",
       "      <td>52176.50</td>\n",
       "      <td>84080.50</td>\n",
       "      <td>755.00</td>\n",
       "      <td>5.00</td>\n",
       "    </tr>\n",
       "    <tr>\n",
       "      <th>max</th>\n",
       "      <td>48479.00</td>\n",
       "      <td>2445773.25</td>\n",
       "      <td>147.24</td>\n",
       "      <td>279.91</td>\n",
       "      <td>1.00</td>\n",
       "      <td>101.00</td>\n",
       "      <td>280199.00</td>\n",
       "      <td>461854.00</td>\n",
       "      <td>850.00</td>\n",
       "      <td>9.00</td>\n",
       "    </tr>\n",
       "  </tbody>\n",
       "</table>\n",
       "</div>"
      ],
      "text/plain": [
       "       num_transactions  total_amount  avg_amount  std_amount    churn  \\\n",
       "count           1219.00       1219.00     1219.00     1219.00  1219.00   \n",
       "mean           10915.43     469102.15       43.91       78.71     0.03   \n",
       "std             5607.36     292602.85       17.48       27.27     0.18   \n",
       "min              760.00      26605.34        5.34        9.71     0.00   \n",
       "25%             7223.50     269693.84       32.22       61.25     0.00   \n",
       "50%             9832.00     398837.16       40.72       74.25     0.00   \n",
       "75%            13349.00     597774.02       52.55       91.87     0.00   \n",
       "max            48479.00    2445773.25      147.24      279.91     1.00   \n",
       "\n",
       "       current_age  yearly_income  total_debt  credit_score  num_credit_cards  \n",
       "count      1219.00        1219.00     1219.00       1219.00           1219.00  \n",
       "mean         53.05       45117.95    58196.86        713.22              3.70  \n",
       "std          15.66       23292.43    51255.43         65.55              1.57  \n",
       "min          23.00           1.00        0.00        488.00              1.00  \n",
       "25%          41.00       32075.00    18527.50        684.00              3.00  \n",
       "50%          51.00       40012.00    51984.00        715.00              4.00  \n",
       "75%          63.00       52176.50    84080.50        755.00              5.00  \n",
       "max         101.00      280199.00   461854.00        850.00              9.00  "
      ]
     },
     "execution_count": 2,
     "metadata": {},
     "output_type": "execute_result"
    }
   ],
   "source": [
    "# Read data\n",
    "path_data = \"https://github.com/pabloestradac/causalml-basics/raw/main/data/\"\n",
    "df = pd.read_csv(path_data + 'churn.csv')\n",
    "df.describe().round(2)"
   ]
  },
  {
   "cell_type": "markdown",
   "metadata": {},
   "source": [
    "## Using Statsmodels for Logistic Regression\n",
    "\n",
    "In logistic regression, the dependent variable is binary, and the goal is to model the probability that the dependent variable belongs to a particular category. In this case, the dependent variable will indicate whether a customer has churned. This is\n",
    "\n",
    "$$\n",
    "P(\\text{Churn} = 1 | X) = \\frac{e^{\\beta_0 + \\beta_1 X_1 + \\ldots + \\beta_p X_p}}{1 + e^{\\beta_0 + \\beta_1 X_1 + \\ldots + \\beta_p X_p}} ,\n",
    "$$\n",
    "\n",
    "where $X = (X_1, \\ldots, X_p)$ are the predictors, and $\\beta = (\\beta_0, \\ldots, \\beta_p)$ are the coefficients.\n",
    "\n",
    "The `GLM()` function from the `statsmodels` library will be used to perform logistic regression using the class of generalized linear models. Alternatively, the function `Logit()` fits a logistic regression model directly. The syntax of `GLM()` is similar to that of sm.OLS(), except that we must pass in the argument `family=sm.families.Binomial()`."
   ]
  },
  {
   "cell_type": "code",
   "execution_count": 3,
   "metadata": {},
   "outputs": [],
   "source": [
    "import patsy\n",
    "\n",
    "model = ('num_transactions + avg_amount + std_amount + current_age + '\n",
    "         'gender + np.log1p(yearly_income) + np.log1p(total_debt) + credit_score + num_credit_cards')\n",
    "Xbase = patsy.dmatrix(model, df, return_type='dataframe')\n",
    "y = df['churn']"
   ]
  },
  {
   "cell_type": "code",
   "execution_count": 4,
   "metadata": {},
   "outputs": [
    {
     "data": {
      "text/html": [
       "<table class=\"simpletable\">\n",
       "<tr>\n",
       "             <td></td>                <th>coef</th>     <th>std err</th>      <th>t</th>      <th>P>|t|</th>  <th>[0.025</th>    <th>0.975]</th>  \n",
       "</tr>\n",
       "<tr>\n",
       "  <th>Intercept</th>               <td>    0.1432</td> <td>    0.101</td> <td>    1.412</td> <td> 0.158</td> <td>   -0.056</td> <td>    0.342</td>\n",
       "</tr>\n",
       "<tr>\n",
       "  <th>gender[T.Male]</th>          <td>    0.0100</td> <td>    0.010</td> <td>    0.976</td> <td> 0.329</td> <td>   -0.010</td> <td>    0.030</td>\n",
       "</tr>\n",
       "<tr>\n",
       "  <th>num_transactions</th>        <td>-4.087e-06</td> <td> 9.89e-07</td> <td>   -4.131</td> <td> 0.000</td> <td>-6.03e-06</td> <td>-2.15e-06</td>\n",
       "</tr>\n",
       "<tr>\n",
       "  <th>avg_amount</th>              <td>    0.0005</td> <td>    0.000</td> <td>    1.226</td> <td> 0.221</td> <td>   -0.000</td> <td>    0.001</td>\n",
       "</tr>\n",
       "<tr>\n",
       "  <th>std_amount</th>              <td> 2.873e-05</td> <td>    0.000</td> <td>    0.098</td> <td> 0.922</td> <td>   -0.001</td> <td>    0.001</td>\n",
       "</tr>\n",
       "<tr>\n",
       "  <th>current_age</th>             <td>   -0.0008</td> <td>    0.000</td> <td>   -2.207</td> <td> 0.028</td> <td>   -0.002</td> <td>-9.25e-05</td>\n",
       "</tr>\n",
       "<tr>\n",
       "  <th>np.log1p(yearly_income)</th> <td>    0.0081</td> <td>    0.008</td> <td>    0.967</td> <td> 0.334</td> <td>   -0.008</td> <td>    0.025</td>\n",
       "</tr>\n",
       "<tr>\n",
       "  <th>np.log1p(total_debt)</th>    <td>   -0.0017</td> <td>    0.002</td> <td>   -0.836</td> <td> 0.403</td> <td>   -0.006</td> <td>    0.002</td>\n",
       "</tr>\n",
       "<tr>\n",
       "  <th>credit_score</th>            <td>   -0.0001</td> <td> 8.24e-05</td> <td>   -1.493</td> <td> 0.136</td> <td>   -0.000</td> <td> 3.86e-05</td>\n",
       "</tr>\n",
       "<tr>\n",
       "  <th>num_credit_cards</th>        <td>   -0.0085</td> <td>    0.004</td> <td>   -2.263</td> <td> 0.024</td> <td>   -0.016</td> <td>   -0.001</td>\n",
       "</tr>\n",
       "</table>"
      ],
      "text/plain": [
       "<class 'statsmodels.iolib.table.SimpleTable'>"
      ]
     },
     "execution_count": 4,
     "metadata": {},
     "output_type": "execute_result"
    }
   ],
   "source": [
    "import statsmodels.api as sm\n",
    "\n",
    "# Linear probability model\n",
    "model = sm.OLS(y, Xbase)\n",
    "results = model.fit()\n",
    "results.summary().tables[1]"
   ]
  },
  {
   "cell_type": "markdown",
   "metadata": {},
   "source": [
    "Interpretation: one more credit card decreases the probability of churn by 0.85 percentage points."
   ]
  },
  {
   "cell_type": "code",
   "execution_count": 5,
   "metadata": {},
   "outputs": [
    {
     "name": "stdout",
     "output_type": "stream",
     "text": [
      "Optimization terminated successfully.\n",
      "         Current function value: 0.119432\n",
      "         Iterations 9\n"
     ]
    },
    {
     "data": {
      "text/html": [
       "<table class=\"simpletable\">\n",
       "<tr>\n",
       "             <td></td>                <th>coef</th>     <th>std err</th>      <th>z</th>      <th>P>|z|</th>  <th>[0.025</th>    <th>0.975]</th>  \n",
       "</tr>\n",
       "<tr>\n",
       "  <th>Intercept</th>               <td>   -7.6918</td> <td>    5.855</td> <td>   -1.314</td> <td> 0.189</td> <td>  -19.168</td> <td>    3.784</td>\n",
       "</tr>\n",
       "<tr>\n",
       "  <th>gender[T.Male]</th>          <td>    0.2546</td> <td>    0.335</td> <td>    0.759</td> <td> 0.448</td> <td>   -0.403</td> <td>    0.912</td>\n",
       "</tr>\n",
       "<tr>\n",
       "  <th>num_transactions</th>        <td>   -0.0003</td> <td> 6.08e-05</td> <td>   -4.948</td> <td> 0.000</td> <td>   -0.000</td> <td>   -0.000</td>\n",
       "</tr>\n",
       "<tr>\n",
       "  <th>avg_amount</th>              <td>    0.0207</td> <td>    0.014</td> <td>    1.459</td> <td> 0.145</td> <td>   -0.007</td> <td>    0.049</td>\n",
       "</tr>\n",
       "<tr>\n",
       "  <th>std_amount</th>              <td>   -0.0138</td> <td>    0.010</td> <td>   -1.429</td> <td> 0.153</td> <td>   -0.033</td> <td>    0.005</td>\n",
       "</tr>\n",
       "<tr>\n",
       "  <th>current_age</th>             <td>   -0.0316</td> <td>    0.014</td> <td>   -2.330</td> <td> 0.020</td> <td>   -0.058</td> <td>   -0.005</td>\n",
       "</tr>\n",
       "<tr>\n",
       "  <th>np.log1p(yearly_income)</th> <td>    1.1346</td> <td>    0.571</td> <td>    1.987</td> <td> 0.047</td> <td>    0.015</td> <td>    2.254</td>\n",
       "</tr>\n",
       "<tr>\n",
       "  <th>np.log1p(total_debt)</th>    <td>   -0.0640</td> <td>    0.065</td> <td>   -0.989</td> <td> 0.322</td> <td>   -0.191</td> <td>    0.063</td>\n",
       "</tr>\n",
       "<tr>\n",
       "  <th>credit_score</th>            <td>   -0.0032</td> <td>    0.003</td> <td>   -1.270</td> <td> 0.204</td> <td>   -0.008</td> <td>    0.002</td>\n",
       "</tr>\n",
       "<tr>\n",
       "  <th>num_credit_cards</th>        <td>   -0.2526</td> <td>    0.140</td> <td>   -1.805</td> <td> 0.071</td> <td>   -0.527</td> <td>    0.022</td>\n",
       "</tr>\n",
       "</table>"
      ],
      "text/plain": [
       "<class 'statsmodels.iolib.table.SimpleTable'>"
      ]
     },
     "execution_count": 5,
     "metadata": {},
     "output_type": "execute_result"
    }
   ],
   "source": [
    "# Logistic regression\n",
    "model = sm.Logit(y, Xbase)\n",
    "results = model.fit()\n",
    "results.summary().tables[1]"
   ]
  },
  {
   "cell_type": "markdown",
   "metadata": {},
   "source": [
    "Interpretation: one more credit card decreases the log-odds of churn by 0.25"
   ]
  },
  {
   "cell_type": "code",
   "execution_count": 6,
   "metadata": {},
   "outputs": [
    {
     "data": {
      "text/html": [
       "<table class=\"simpletable\">\n",
       "<tr>\n",
       "             <th></th>                <th>dy/dx</th>    <th>std err</th>      <th>z</th>      <th>P>|z|</th>  <th>[0.025</th>    <th>0.975]</th>  \n",
       "</tr>\n",
       "<tr>\n",
       "  <th>gender[T.Male]</th>          <td>    0.0076</td> <td>    0.010</td> <td>    0.758</td> <td> 0.449</td> <td>   -0.012</td> <td>    0.027</td>\n",
       "</tr>\n",
       "<tr>\n",
       "  <th>num_transactions</th>        <td>-9.029e-06</td> <td> 2.02e-06</td> <td>   -4.471</td> <td> 0.000</td> <td> -1.3e-05</td> <td>-5.07e-06</td>\n",
       "</tr>\n",
       "<tr>\n",
       "  <th>avg_amount</th>              <td>    0.0006</td> <td>    0.000</td> <td>    1.443</td> <td> 0.149</td> <td>   -0.000</td> <td>    0.001</td>\n",
       "</tr>\n",
       "<tr>\n",
       "  <th>std_amount</th>              <td>   -0.0004</td> <td>    0.000</td> <td>   -1.413</td> <td> 0.158</td> <td>   -0.001</td> <td>    0.000</td>\n",
       "</tr>\n",
       "<tr>\n",
       "  <th>current_age</th>             <td>   -0.0009</td> <td>    0.000</td> <td>   -2.272</td> <td> 0.023</td> <td>   -0.002</td> <td>   -0.000</td>\n",
       "</tr>\n",
       "<tr>\n",
       "  <th>np.log1p(yearly_income)</th> <td>    0.0340</td> <td>    0.017</td> <td>    1.959</td> <td> 0.050</td> <td>-1.25e-05</td> <td>    0.068</td>\n",
       "</tr>\n",
       "<tr>\n",
       "  <th>np.log1p(total_debt)</th>    <td>   -0.0019</td> <td>    0.002</td> <td>   -0.984</td> <td> 0.325</td> <td>   -0.006</td> <td>    0.002</td>\n",
       "</tr>\n",
       "<tr>\n",
       "  <th>credit_score</th>            <td> -9.59e-05</td> <td>  7.6e-05</td> <td>   -1.262</td> <td> 0.207</td> <td>   -0.000</td> <td>  5.3e-05</td>\n",
       "</tr>\n",
       "<tr>\n",
       "  <th>num_credit_cards</th>        <td>   -0.0076</td> <td>    0.004</td> <td>   -1.776</td> <td> 0.076</td> <td>   -0.016</td> <td>    0.001</td>\n",
       "</tr>\n",
       "</table>"
      ],
      "text/plain": [
       "<class 'statsmodels.iolib.table.SimpleTable'>"
      ]
     },
     "execution_count": 6,
     "metadata": {},
     "output_type": "execute_result"
    }
   ],
   "source": [
    "marginal_effects = results.get_margeff()\n",
    "marginal_effects.summary().tables[1]"
   ]
  },
  {
   "cell_type": "markdown",
   "metadata": {},
   "source": [
    "Interpretation: one more credit card decreases the probability of churn by 0.76 percentage points."
   ]
  },
  {
   "cell_type": "markdown",
   "metadata": {},
   "source": [
    "## Using Scikit-learn for Logistic Regression\n",
    "\n",
    "Logistic regression is a special case of Generalized Linear Models (GLM) with a Binomial / Bernoulli conditional distribution and a Logit link. The numerical output of the logistic regression, which is the predicted probability, can be used as a classifier by applying a threshold (by default 0.5) to it. This is how it is implemented in scikit-learn, so it expects a categorical target, making the Logistic Regression a classifier.\n",
    "\n",
    "This implementation can fit binary, One-vs-Rest, or multinomial logistic regression with optional $\\ell_1$, $\\ell_2$ or Elastic-Net regularization."
   ]
  },
  {
   "cell_type": "code",
   "execution_count": 7,
   "metadata": {},
   "outputs": [
    {
     "data": {
      "text/plain": [
       "array([[590,   0],\n",
       "       [ 18,   1]])"
      ]
     },
     "execution_count": 7,
     "metadata": {},
     "output_type": "execute_result"
    }
   ],
   "source": [
    "from sklearn.linear_model import LogisticRegression\n",
    "from sklearn.model_selection import train_test_split\n",
    "from sklearn.metrics import classification_report, confusion_matrix, roc_curve, auc\n",
    "\n",
    "# Split the data into training and testing sets\n",
    "X_train, X_test, y_train, y_test = train_test_split(Xbase, y, test_size=0.5, random_state=42)\n",
    "\n",
    "# Fit the model\n",
    "clf = LogisticRegression()\n",
    "clf.fit(X_train, y_train)\n",
    "\n",
    "# Make predictions with train data\n",
    "y_pred = clf.predict(X_train)\n",
    "\n",
    "# Confusion matrix\n",
    "confusion_matrix(y_train, y_pred)"
   ]
  },
  {
   "cell_type": "markdown",
   "metadata": {},
   "source": [
    "In the confusion matrix, each row represents the actual class, while each column represents the predicted class.\n",
    "\n",
    "Out of the 19 customers who churned, the model correctly predicted only 1 of them. This is a very poor result."
   ]
  },
  {
   "cell_type": "code",
   "execution_count": 8,
   "metadata": {},
   "outputs": [
    {
     "name": "stdout",
     "output_type": "stream",
     "text": [
      "              precision    recall  f1-score   support\n",
      "\n",
      "           0       0.97      1.00      0.98       590\n",
      "           1       1.00      0.05      0.10        19\n",
      "\n",
      "    accuracy                           0.97       609\n",
      "   macro avg       0.99      0.53      0.54       609\n",
      "weighted avg       0.97      0.97      0.96       609\n",
      "\n"
     ]
    }
   ],
   "source": [
    "# Evaluate the model\n",
    "print(classification_report(y_train, y_pred))"
   ]
  },
  {
   "cell_type": "markdown",
   "metadata": {},
   "source": [
    "- Precision measures the proportion of positive identifications that were actually correct. It is given by $\\text{TP} / (\\text{TP} + \\text{FP})$, where TP is the number of true positives and FP is the number of false positives. \n",
    "  - If precision is 0.6, then 60% of the customers that the model predicted to churn we actually lost.\n",
    "\n",
    "- Recall measures the proportion of actual positives that were identified correctly. It is given by $\\text{TP} / (\\text{TP} + \\text{FN})$, where FN is the number of false negatives. \n",
    "  - If recall is 0.7, then 70% of the customers that actually churned were identified by the model.\n",
    "\n",
    "- The F1 score is the harmonic mean of precision and recall, and is given by $2 \\times \\text{Precision} \\times \\text{Recall} / (\\text{Precision} + \\text{Recall})$. \n",
    "  - If your F1 Score is high, it means your model has found a good balance between precision and recall.\n",
    "\n",
    "- Accuracy measures the proportion of true results (both true positives and true negatives) in the population. It is given by $(\\text{TP} + \\text{TN}) / (\\text{TP} + \\text{TN} + \\text{FP} + \\text{FN})$. \n",
    "  - If accuracy is 0.8, then 80% of customers were correctly classified by the model.\n",
    "\n",
    "- Macro-average calculates the metric independently for each class and then takes the average (hence treating all classes equally), whereas micro-average aggregates the contributions of all classes to compute the average metric."
   ]
  },
  {
   "cell_type": "code",
   "execution_count": 9,
   "metadata": {},
   "outputs": [
    {
     "name": "stdout",
     "output_type": "stream",
     "text": [
      "              precision    recall  f1-score   support\n",
      "\n",
      "           0       0.96      1.00      0.98       587\n",
      "           1       0.00      0.00      0.00        23\n",
      "\n",
      "    accuracy                           0.96       610\n",
      "   macro avg       0.48      0.50      0.49       610\n",
      "weighted avg       0.93      0.96      0.94       610\n",
      "\n"
     ]
    }
   ],
   "source": [
    "# Make predictions with test data\n",
    "y_pred = clf.predict(X_test)\n",
    "\n",
    "# Evaluate the model with test data\n",
    "print(classification_report(y_test, y_pred))"
   ]
  },
  {
   "cell_type": "markdown",
   "metadata": {},
   "source": [
    "As we have seen previously, the training error rate is often overly optimistic — it tends to underestimate the test error rate. In order to better assess the accuracy of the logistic regression model in this setting, we can fit the model using part of the data, and then examine how well it predicts the held out data."
   ]
  },
  {
   "cell_type": "code",
   "execution_count": 10,
   "metadata": {},
   "outputs": [
    {
     "data": {
      "text/plain": [
       "array([[587,   0],\n",
       "       [ 23,   0]])"
      ]
     },
     "execution_count": 10,
     "metadata": {},
     "output_type": "execute_result"
    }
   ],
   "source": [
    "# Confusion matrix\n",
    "confusion_matrix(y_test, y_pred) "
   ]
  },
  {
   "cell_type": "markdown",
   "metadata": {},
   "source": [
    "This gets worse when we use the test set. The model is not able to predict any of the customers who churned."
   ]
  },
  {
   "cell_type": "code",
   "execution_count": 11,
   "metadata": {},
   "outputs": [
    {
     "data": {
      "image/png": "[encoded data removed]",
      "text/plain": [
       "<Figure size 432x288 with 1 Axes>"
      ]
     },
     "metadata": {
      "image/png": {
       "height": 277,
       "width": 393
      },
      "needs_background": "light"
     },
     "output_type": "display_data"
    }
   ],
   "source": [
    "# ROC curve\n",
    "y_pred_proba = clf.predict_proba(X_test)[:, 1]\n",
    "fpr, tpr, thresholds = roc_curve(y_test, y_pred_proba)\n",
    "roc_auc = auc(fpr, tpr)\n",
    "\n",
    "plt.figure()\n",
    "plt.plot(fpr, tpr, color='blue', label='ROC curve (area = %0.2f)' % roc_auc)\n",
    "plt.plot([0, 1], [0, 1], color='red', linestyle='--')\n",
    "plt.xlim([0.0, 1.0])\n",
    "plt.ylim([0.0, 1.05])\n",
    "plt.xlabel('False Positive Rate')\n",
    "plt.ylabel('True Positive Rate')\n",
    "plt.title('Receiver Operating Characteristic')\n",
    "plt.legend(loc='lower right')\n",
    "plt.show() \n"
   ]
  },
  {
   "cell_type": "markdown",
   "metadata": {},
   "source": [
    "The ROC curve is drawn by calculating the true positive rate (TPR) and false positive rate (FPR) at every possible threshold (in practice, at selected intervals), then graphing TPR over FPR. \n",
    "\n",
    "The area under the ROC curve (AUC) is a measure of the accuracy of the model. AUC represents the probability that the model, if given a randomly chosen positive and negative example, will rank the positive higher than the negative. An AUC of 0.5 indicates that the model is no better than random, while an AUC of 1 indicates that the model is perfect."
   ]
  },
  {
   "cell_type": "markdown",
   "metadata": {},
   "source": [
    "## Linear Discriminant Analysis\n",
    "\n"
   ]
  },
  {
   "cell_type": "code",
   "execution_count": 12,
   "metadata": {},
   "outputs": [
    {
     "name": "stdout",
     "output_type": "stream",
     "text": [
      "              precision    recall  f1-score   support\n",
      "\n",
      "           0       0.96      1.00      0.98       587\n",
      "           1       0.00      0.00      0.00        23\n",
      "\n",
      "    accuracy                           0.96       610\n",
      "   macro avg       0.48      0.50      0.49       610\n",
      "weighted avg       0.93      0.96      0.94       610\n",
      "\n"
     ]
    }
   ],
   "source": [
    "from sklearn.discriminant_analysis import LinearDiscriminantAnalysis\n",
    "\n",
    "# Fit the model\n",
    "clf = LinearDiscriminantAnalysis()\n",
    "clf.fit(X_train, y_train)\n",
    "\n",
    "# Make predictions with test data\n",
    "y_pred = clf.predict(X_test)\n",
    "\n",
    "# Evaluate the model with test data\n",
    "print(classification_report(y_test, y_pred))"
   ]
  },
  {
   "cell_type": "markdown",
   "metadata": {},
   "source": [
    "## K-Nearest Neighbors"
   ]
  },
  {
   "cell_type": "code",
   "execution_count": 13,
   "metadata": {},
   "outputs": [
    {
     "name": "stdout",
     "output_type": "stream",
     "text": [
      "              precision    recall  f1-score   support\n",
      "\n",
      "           0       0.96      1.00      0.98       587\n",
      "           1       0.00      0.00      0.00        23\n",
      "\n",
      "    accuracy                           0.96       610\n",
      "   macro avg       0.48      0.50      0.49       610\n",
      "weighted avg       0.93      0.96      0.94       610\n",
      "\n"
     ]
    }
   ],
   "source": [
    "from sklearn.neighbors import KNeighborsClassifier\n",
    "\n",
    "# Fit KNN model\n",
    "clf = KNeighborsClassifier(n_neighbors=3)\n",
    "clf.fit(X_train, y_train)\n",
    "\n",
    "# Make predictions with test data\n",
    "y_pred = clf.predict(X_test)\n",
    "\n",
    "# Evaluate the model with test data\n",
    "print(classification_report(y_test, y_pred))"
   ]
  },
  {
   "cell_type": "code",
   "execution_count": 14,
   "metadata": {},
   "outputs": [
    {
     "name": "stdout",
     "output_type": "stream",
     "text": [
      "Best parameters for KNN: 2\n",
      "Best cross-validation score for KNN: 0.97\n",
      "              precision    recall  f1-score   support\n",
      "\n",
      "           0       0.96      1.00      0.98       587\n",
      "           1       0.00      0.00      0.00        23\n",
      "\n",
      "    accuracy                           0.96       610\n",
      "   macro avg       0.48      0.50      0.49       610\n",
      "weighted avg       0.93      0.96      0.94       610\n",
      "\n"
     ]
    }
   ],
   "source": [
    "# Tuning KNN model\n",
    "from sklearn.model_selection import GridSearchCV\n",
    "\n",
    "param_grid = {'n_neighbors': np.arange(1, 20)}\n",
    "knn = KNeighborsClassifier()\n",
    "knn_cv = GridSearchCV(knn, param_grid, cv=5)\n",
    "knn_cv.fit(X_train, y_train)\n",
    "\n",
    "# Best parameters\n",
    "print(\"Best parameters for KNN:\", knn_cv.best_params_['n_neighbors'])\n",
    "print(\"Best cross-validation score for KNN:\", round(knn_cv.best_score_, 2))\n",
    "\n",
    "# Make predictions with the best KNN model\n",
    "y_pred = knn_cv.predict(X_test)\n",
    "\n",
    "# Evaluate the model with test data\n",
    "print(classification_report(y_test, y_pred))"
   ]
  },
  {
   "cell_type": "markdown",
   "metadata": {},
   "source": [
    "## Support Vector Machines"
   ]
  },
  {
   "cell_type": "code",
   "execution_count": 15,
   "metadata": {},
   "outputs": [
    {
     "name": "stdout",
     "output_type": "stream",
     "text": [
      "              precision    recall  f1-score   support\n",
      "\n",
      "           0       0.96      1.00      0.98       587\n",
      "           1       0.00      0.00      0.00        23\n",
      "\n",
      "    accuracy                           0.96       610\n",
      "   macro avg       0.48      0.50      0.49       610\n",
      "weighted avg       0.93      0.96      0.94       610\n",
      "\n"
     ]
    }
   ],
   "source": [
    "# Fit Support Vector Machine model\n",
    "from sklearn.svm import SVC\n",
    "\n",
    "clf = SVC(probability=True)\n",
    "clf.fit(X_train, y_train)\n",
    "\n",
    "# Make predictions with test data\n",
    "y_pred = clf.predict(X_test)\n",
    "\n",
    "# Evaluate the model with test data\n",
    "print(classification_report(y_test, y_pred))"
   ]
  },
  {
   "cell_type": "code",
   "execution_count": null,
   "metadata": {},
   "outputs": [],
   "source": []
  }
 ],
 "metadata": {
  "kernelspec": {
   "display_name": "base",
   "language": "python",
   "name": "python3"
  },
  "language_info": {
   "codemirror_mode": {
    "name": "ipython",
    "version": 3
   },
   "file_extension": ".py",
   "mimetype": "text/x-python",
   "name": "python",
   "nbconvert_exporter": "python",
   "pygments_lexer": "ipython3",
   "version": "3.9.12"
  }
 },
 "nbformat": 4,
 "nbformat_minor": 2
}
