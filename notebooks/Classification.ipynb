{
 "cells": [
  {
   "cell_type": "markdown",
   "metadata": {},
   "source": [
    "# Classifying Spotify Songs\n",
    "\n",
    "The dataset for this project features a comprehensive collection of 2023's most popular songs, as described in this [GitHub Repository](https://github.com/jivanjotk/Most-Streamed-Spotify-Songs-2023-Analysis-). Beyond basic information, the dataset provides detailed insights into each song's characteristics, popularity, and a variety of audio attributes.\n",
    "\n",
    "The goal of this notebook is to predict whether a song will make it onto a Spotify chart, based on its audio and popularity features.\n",
    "\n",
    "**Key Features of the Dataset:**\n",
    "\n",
    "- **track_id:** Unique identifier for each song\n",
    "- **artist_count:** Number of artists contributing to the song\n",
    "- **spotify_chart:** Song's rank and presence on Spotify charts\n",
    "- **bpm:** Beats per minute, indicating the tempo\n",
    "- **key:** Musical key of the song\n",
    "- **mode:** Indicates whether the song is in a major or minor mode\n",
    "- **danceability:** Score reflecting how suitable the song is for dancing\n",
    "- **valence:** Measure of the song's musical positivity\n",
    "- **energy:** Perceived energy level of the track\n",
    "- **acousticness:** Degree of acoustic elements present\n",
    "- **instrumentalness:** Amount of instrumental content in the song\n",
    "- **liveness:** Measure of live performance characteristics\n",
    "- **speechiness:** Proportion of spoken words in the track\n"
   ]
  },
  {
   "cell_type": "code",
   "execution_count": 3,
   "metadata": {},
   "outputs": [],
   "source": [
    "import numpy as np\n",
    "import pandas as pd\n",
    "import matplotlib.pyplot as plt\n",
    "\n",
    "import warnings\n",
    "warnings.simplefilter('ignore')\n",
    "\n",
    "%config InlineBackend.figure_format = \"retina\""
   ]
  },
  {
   "cell_type": "markdown",
   "metadata": {},
   "source": [
    "## Data"
   ]
  },
  {
   "cell_type": "code",
   "execution_count": 4,
   "metadata": {},
   "outputs": [
    {
     "data": {
      "text/html": [
       "<div>\n",
       "<style scoped>\n",
       "    .dataframe tbody tr th:only-of-type {\n",
       "        vertical-align: middle;\n",
       "    }\n",
       "\n",
       "    .dataframe tbody tr th {\n",
       "        vertical-align: top;\n",
       "    }\n",
       "\n",
       "    .dataframe thead th {\n",
       "        text-align: right;\n",
       "    }\n",
       "</style>\n",
       "<table border=\"1\" class=\"dataframe\">\n",
       "  <thead>\n",
       "    <tr style=\"text-align: right;\">\n",
       "      <th></th>\n",
       "      <th>track_id</th>\n",
       "      <th>spotify_chart</th>\n",
       "      <th>artist_count</th>\n",
       "      <th>bpm</th>\n",
       "      <th>key</th>\n",
       "      <th>mode</th>\n",
       "      <th>danceability</th>\n",
       "      <th>valence</th>\n",
       "      <th>energy</th>\n",
       "      <th>acousticness</th>\n",
       "      <th>instrumentalness</th>\n",
       "      <th>liveness</th>\n",
       "      <th>speechiness</th>\n",
       "      <th>top</th>\n",
       "    </tr>\n",
       "  </thead>\n",
       "  <tbody>\n",
       "    <tr>\n",
       "      <th>853</th>\n",
       "      <td>948</td>\n",
       "      <td>0</td>\n",
       "      <td>1</td>\n",
       "      <td>144</td>\n",
       "      <td>A</td>\n",
       "      <td>Major</td>\n",
       "      <td>60</td>\n",
       "      <td>24</td>\n",
       "      <td>39</td>\n",
       "      <td>57</td>\n",
       "      <td>0</td>\n",
       "      <td>8</td>\n",
       "      <td>3</td>\n",
       "      <td>0</td>\n",
       "    </tr>\n",
       "    <tr>\n",
       "      <th>854</th>\n",
       "      <td>949</td>\n",
       "      <td>0</td>\n",
       "      <td>1</td>\n",
       "      <td>166</td>\n",
       "      <td>F#</td>\n",
       "      <td>Major</td>\n",
       "      <td>42</td>\n",
       "      <td>7</td>\n",
       "      <td>24</td>\n",
       "      <td>83</td>\n",
       "      <td>1</td>\n",
       "      <td>12</td>\n",
       "      <td>6</td>\n",
       "      <td>0</td>\n",
       "    </tr>\n",
       "    <tr>\n",
       "      <th>855</th>\n",
       "      <td>950</td>\n",
       "      <td>0</td>\n",
       "      <td>2</td>\n",
       "      <td>92</td>\n",
       "      <td>C#</td>\n",
       "      <td>Major</td>\n",
       "      <td>80</td>\n",
       "      <td>81</td>\n",
       "      <td>67</td>\n",
       "      <td>4</td>\n",
       "      <td>0</td>\n",
       "      <td>8</td>\n",
       "      <td>6</td>\n",
       "      <td>0</td>\n",
       "    </tr>\n",
       "    <tr>\n",
       "      <th>856</th>\n",
       "      <td>951</td>\n",
       "      <td>0</td>\n",
       "      <td>3</td>\n",
       "      <td>97</td>\n",
       "      <td>C#</td>\n",
       "      <td>Major</td>\n",
       "      <td>82</td>\n",
       "      <td>67</td>\n",
       "      <td>77</td>\n",
       "      <td>8</td>\n",
       "      <td>0</td>\n",
       "      <td>12</td>\n",
       "      <td>5</td>\n",
       "      <td>0</td>\n",
       "    </tr>\n",
       "    <tr>\n",
       "      <th>857</th>\n",
       "      <td>952</td>\n",
       "      <td>2</td>\n",
       "      <td>1</td>\n",
       "      <td>90</td>\n",
       "      <td>E</td>\n",
       "      <td>Minor</td>\n",
       "      <td>61</td>\n",
       "      <td>32</td>\n",
       "      <td>67</td>\n",
       "      <td>15</td>\n",
       "      <td>0</td>\n",
       "      <td>11</td>\n",
       "      <td>5</td>\n",
       "      <td>1</td>\n",
       "    </tr>\n",
       "  </tbody>\n",
       "</table>\n",
       "</div>"
      ],
      "text/plain": [
       "     track_id  spotify_chart  artist_count  bpm key   mode  danceability  \\\n",
       "853       948              0             1  144   A  Major            60   \n",
       "854       949              0             1  166  F#  Major            42   \n",
       "855       950              0             2   92  C#  Major            80   \n",
       "856       951              0             3   97  C#  Major            82   \n",
       "857       952              2             1   90   E  Minor            61   \n",
       "\n",
       "     valence  energy  acousticness  instrumentalness  liveness  speechiness  \\\n",
       "853       24      39            57                 0         8            3   \n",
       "854        7      24            83                 1        12            6   \n",
       "855       81      67             4                 0         8            6   \n",
       "856       67      77             8                 0        12            5   \n",
       "857       32      67            15                 0        11            5   \n",
       "\n",
       "     top  \n",
       "853    0  \n",
       "854    0  \n",
       "855    0  \n",
       "856    0  \n",
       "857    1  "
      ]
     },
     "execution_count": 4,
     "metadata": {},
     "output_type": "execute_result"
    }
   ],
   "source": [
    "# Read data\n",
    "path_data = \"https://github.com/pabloestradac/causalml-basics/raw/main/data/\"\n",
    "df = pd.read_csv(path_data + 'spotify-2023.csv')\n",
    "df = df.loc[:, ['track_id', 'spotify_chart', 'artist_count', 'bpm', 'key', 'mode', 'danceability',\n",
    "                'valence', 'energy', 'acousticness', 'instrumentalness', 'liveness', 'speechiness']]\n",
    "df['top'] = np.where(df['spotify_chart'] > 0, 1, 0)\n",
    "df = df.dropna(ignore_index=True)\n",
    "df.tail()"
   ]
  },
  {
   "cell_type": "code",
   "execution_count": 5,
   "metadata": {},
   "outputs": [
    {
     "name": "stdout",
     "output_type": "stream",
     "text": [
      "<class 'pandas.core.frame.DataFrame'>\n",
      "RangeIndex: 858 entries, 0 to 857\n",
      "Data columns (total 14 columns):\n",
      " #   Column            Non-Null Count  Dtype \n",
      "---  ------            --------------  ----- \n",
      " 0   track_id          858 non-null    int64 \n",
      " 1   spotify_chart     858 non-null    int64 \n",
      " 2   artist_count      858 non-null    int64 \n",
      " 3   bpm               858 non-null    int64 \n",
      " 4   key               858 non-null    object\n",
      " 5   mode              858 non-null    object\n",
      " 6   danceability      858 non-null    int64 \n",
      " 7   valence           858 non-null    int64 \n",
      " 8   energy            858 non-null    int64 \n",
      " 9   acousticness      858 non-null    int64 \n",
      " 10  instrumentalness  858 non-null    int64 \n",
      " 11  liveness          858 non-null    int64 \n",
      " 12  speechiness       858 non-null    int64 \n",
      " 13  top               858 non-null    int64 \n",
      "dtypes: int64(12), object(2)\n",
      "memory usage: 94.0+ KB\n"
     ]
    },
    {
     "data": {
      "text/html": [
       "<div>\n",
       "<style scoped>\n",
       "    .dataframe tbody tr th:only-of-type {\n",
       "        vertical-align: middle;\n",
       "    }\n",
       "\n",
       "    .dataframe tbody tr th {\n",
       "        vertical-align: top;\n",
       "    }\n",
       "\n",
       "    .dataframe thead th {\n",
       "        text-align: right;\n",
       "    }\n",
       "</style>\n",
       "<table border=\"1\" class=\"dataframe\">\n",
       "  <thead>\n",
       "    <tr style=\"text-align: right;\">\n",
       "      <th></th>\n",
       "      <th>track_id</th>\n",
       "      <th>spotify_chart</th>\n",
       "      <th>artist_count</th>\n",
       "      <th>bpm</th>\n",
       "      <th>danceability</th>\n",
       "      <th>valence</th>\n",
       "      <th>energy</th>\n",
       "      <th>acousticness</th>\n",
       "      <th>instrumentalness</th>\n",
       "      <th>liveness</th>\n",
       "      <th>speechiness</th>\n",
       "      <th>top</th>\n",
       "    </tr>\n",
       "  </thead>\n",
       "  <tbody>\n",
       "    <tr>\n",
       "      <th>count</th>\n",
       "      <td>858.000000</td>\n",
       "      <td>858.000000</td>\n",
       "      <td>858.000000</td>\n",
       "      <td>858.000000</td>\n",
       "      <td>858.000000</td>\n",
       "      <td>858.000000</td>\n",
       "      <td>858.000000</td>\n",
       "      <td>858.000000</td>\n",
       "      <td>858.000000</td>\n",
       "      <td>858.000000</td>\n",
       "      <td>858.000000</td>\n",
       "      <td>858.000000</td>\n",
       "    </tr>\n",
       "    <tr>\n",
       "      <th>mean</th>\n",
       "      <td>476.088578</td>\n",
       "      <td>11.945221</td>\n",
       "      <td>1.551282</td>\n",
       "      <td>122.827506</td>\n",
       "      <td>67.256410</td>\n",
       "      <td>51.247086</td>\n",
       "      <td>64.344988</td>\n",
       "      <td>26.621212</td>\n",
       "      <td>1.609557</td>\n",
       "      <td>18.173660</td>\n",
       "      <td>10.388112</td>\n",
       "      <td>0.574592</td>\n",
       "    </tr>\n",
       "    <tr>\n",
       "      <th>std</th>\n",
       "      <td>275.962906</td>\n",
       "      <td>19.187353</td>\n",
       "      <td>0.864335</td>\n",
       "      <td>28.183522</td>\n",
       "      <td>14.652712</td>\n",
       "      <td>23.594781</td>\n",
       "      <td>16.047766</td>\n",
       "      <td>25.681877</td>\n",
       "      <td>8.565909</td>\n",
       "      <td>13.561611</td>\n",
       "      <td>10.088162</td>\n",
       "      <td>0.494693</td>\n",
       "    </tr>\n",
       "    <tr>\n",
       "      <th>min</th>\n",
       "      <td>0.000000</td>\n",
       "      <td>0.000000</td>\n",
       "      <td>1.000000</td>\n",
       "      <td>65.000000</td>\n",
       "      <td>23.000000</td>\n",
       "      <td>4.000000</td>\n",
       "      <td>14.000000</td>\n",
       "      <td>0.000000</td>\n",
       "      <td>0.000000</td>\n",
       "      <td>3.000000</td>\n",
       "      <td>2.000000</td>\n",
       "      <td>0.000000</td>\n",
       "    </tr>\n",
       "    <tr>\n",
       "      <th>25%</th>\n",
       "      <td>237.250000</td>\n",
       "      <td>0.000000</td>\n",
       "      <td>1.000000</td>\n",
       "      <td>100.000000</td>\n",
       "      <td>57.000000</td>\n",
       "      <td>32.000000</td>\n",
       "      <td>53.250000</td>\n",
       "      <td>5.000000</td>\n",
       "      <td>0.000000</td>\n",
       "      <td>10.000000</td>\n",
       "      <td>4.000000</td>\n",
       "      <td>0.000000</td>\n",
       "    </tr>\n",
       "    <tr>\n",
       "      <th>50%</th>\n",
       "      <td>477.000000</td>\n",
       "      <td>3.000000</td>\n",
       "      <td>1.000000</td>\n",
       "      <td>121.000000</td>\n",
       "      <td>70.000000</td>\n",
       "      <td>51.000000</td>\n",
       "      <td>66.000000</td>\n",
       "      <td>17.000000</td>\n",
       "      <td>0.000000</td>\n",
       "      <td>12.000000</td>\n",
       "      <td>6.000000</td>\n",
       "      <td>1.000000</td>\n",
       "    </tr>\n",
       "    <tr>\n",
       "      <th>75%</th>\n",
       "      <td>715.750000</td>\n",
       "      <td>16.000000</td>\n",
       "      <td>2.000000</td>\n",
       "      <td>141.750000</td>\n",
       "      <td>78.000000</td>\n",
       "      <td>70.000000</td>\n",
       "      <td>76.000000</td>\n",
       "      <td>42.000000</td>\n",
       "      <td>0.000000</td>\n",
       "      <td>24.000000</td>\n",
       "      <td>12.000000</td>\n",
       "      <td>1.000000</td>\n",
       "    </tr>\n",
       "    <tr>\n",
       "      <th>max</th>\n",
       "      <td>952.000000</td>\n",
       "      <td>147.000000</td>\n",
       "      <td>8.000000</td>\n",
       "      <td>206.000000</td>\n",
       "      <td>96.000000</td>\n",
       "      <td>97.000000</td>\n",
       "      <td>97.000000</td>\n",
       "      <td>97.000000</td>\n",
       "      <td>91.000000</td>\n",
       "      <td>97.000000</td>\n",
       "      <td>64.000000</td>\n",
       "      <td>1.000000</td>\n",
       "    </tr>\n",
       "  </tbody>\n",
       "</table>\n",
       "</div>"
      ],
      "text/plain": [
       "         track_id  spotify_chart  artist_count         bpm  danceability  \\\n",
       "count  858.000000     858.000000    858.000000  858.000000    858.000000   \n",
       "mean   476.088578      11.945221      1.551282  122.827506     67.256410   \n",
       "std    275.962906      19.187353      0.864335   28.183522     14.652712   \n",
       "min      0.000000       0.000000      1.000000   65.000000     23.000000   \n",
       "25%    237.250000       0.000000      1.000000  100.000000     57.000000   \n",
       "50%    477.000000       3.000000      1.000000  121.000000     70.000000   \n",
       "75%    715.750000      16.000000      2.000000  141.750000     78.000000   \n",
       "max    952.000000     147.000000      8.000000  206.000000     96.000000   \n",
       "\n",
       "          valence      energy  acousticness  instrumentalness    liveness  \\\n",
       "count  858.000000  858.000000    858.000000        858.000000  858.000000   \n",
       "mean    51.247086   64.344988     26.621212          1.609557   18.173660   \n",
       "std     23.594781   16.047766     25.681877          8.565909   13.561611   \n",
       "min      4.000000   14.000000      0.000000          0.000000    3.000000   \n",
       "25%     32.000000   53.250000      5.000000          0.000000   10.000000   \n",
       "50%     51.000000   66.000000     17.000000          0.000000   12.000000   \n",
       "75%     70.000000   76.000000     42.000000          0.000000   24.000000   \n",
       "max     97.000000   97.000000     97.000000         91.000000   97.000000   \n",
       "\n",
       "       speechiness         top  \n",
       "count   858.000000  858.000000  \n",
       "mean     10.388112    0.574592  \n",
       "std      10.088162    0.494693  \n",
       "min       2.000000    0.000000  \n",
       "25%       4.000000    0.000000  \n",
       "50%       6.000000    1.000000  \n",
       "75%      12.000000    1.000000  \n",
       "max      64.000000    1.000000  "
      ]
     },
     "execution_count": 5,
     "metadata": {},
     "output_type": "execute_result"
    }
   ],
   "source": [
    "# Inspect the data\n",
    "df.info()\n",
    "df.describe()"
   ]
  },
  {
   "cell_type": "markdown",
   "metadata": {},
   "source": [
    "## Using Statsmodels for Logistic Regression\n",
    "\n",
    "In logistic regression, the dependent variable is binary, and the goal is to model the probability that the dependent variable belongs to a particular category. In this case, the dependent variable will be a binary variable indicating whether a song made it onto the Spotify chart. This is\n",
    "\n",
    "$$\n",
    "P(\\text{Spotify Chart} = 1 | X) = \\frac{e^{\\beta_0 + \\beta_1 X_1 + \\ldots + \\beta_p X_p}}{1 + e^{\\beta_0 + \\beta_1 X_1 + \\ldots + \\beta_p X_p}} ,\n",
    "$$\n",
    "\n",
    "where $X = (X_1, \\ldots, X_p)$ are the predictors, and $\\beta = (\\beta_0, \\ldots, \\beta_p)$ are the coefficients.\n",
    "\n",
    "The `GLM()` function from the `statsmodels` library will be used to perform logistic regression using the class of generalized linear models. Alternatively, the function `Logit()` fits a logistic regression model directly. The syntax of `GLM()` is similar to that of sm.OLS(), except that we must pass in the argument `family=sm.families.Binomial()`."
   ]
  },
  {
   "cell_type": "code",
   "execution_count": 6,
   "metadata": {},
   "outputs": [],
   "source": [
    "import patsy\n",
    "\n",
    "model = ('0 + artist_count + bpm + key + mode '\n",
    "         '+ danceability + valence + energy + acousticness + instrumentalness + liveness + speechiness')\n",
    "Xbase = patsy.dmatrix(model, df, return_type='dataframe')\n",
    "y = df['top']"
   ]
  },
  {
   "cell_type": "code",
   "execution_count": 7,
   "metadata": {},
   "outputs": [
    {
     "data": {
      "text/html": [
       "<table class=\"simpletable\">\n",
       "<tr>\n",
       "          <td></td>            <th>coef</th>     <th>std err</th>      <th>z</th>      <th>P>|z|</th>  <th>[0.025</th>    <th>0.975]</th>  \n",
       "</tr>\n",
       "<tr>\n",
       "  <th>key[A]</th>           <td>   -1.2466</td> <td>    0.717</td> <td>   -1.739</td> <td> 0.082</td> <td>   -2.651</td> <td>    0.158</td>\n",
       "</tr>\n",
       "<tr>\n",
       "  <th>key[A#]</th>          <td>   -0.9800</td> <td>    0.730</td> <td>   -1.342</td> <td> 0.180</td> <td>   -2.411</td> <td>    0.451</td>\n",
       "</tr>\n",
       "<tr>\n",
       "  <th>key[B]</th>           <td>   -1.0163</td> <td>    0.736</td> <td>   -1.381</td> <td> 0.167</td> <td>   -2.458</td> <td>    0.426</td>\n",
       "</tr>\n",
       "<tr>\n",
       "  <th>key[C#]</th>          <td>   -1.2459</td> <td>    0.714</td> <td>   -1.746</td> <td> 0.081</td> <td>   -2.645</td> <td>    0.153</td>\n",
       "</tr>\n",
       "<tr>\n",
       "  <th>key[D]</th>           <td>   -1.5276</td> <td>    0.727</td> <td>   -2.102</td> <td> 0.036</td> <td>   -2.952</td> <td>   -0.103</td>\n",
       "</tr>\n",
       "<tr>\n",
       "  <th>key[D#]</th>          <td>   -1.6982</td> <td>    0.772</td> <td>   -2.199</td> <td> 0.028</td> <td>   -3.212</td> <td>   -0.185</td>\n",
       "</tr>\n",
       "<tr>\n",
       "  <th>key[E]</th>           <td>   -1.2874</td> <td>    0.740</td> <td>   -1.739</td> <td> 0.082</td> <td>   -2.738</td> <td>    0.164</td>\n",
       "</tr>\n",
       "<tr>\n",
       "  <th>key[F]</th>           <td>   -0.8496</td> <td>    0.718</td> <td>   -1.184</td> <td> 0.236</td> <td>   -2.256</td> <td>    0.557</td>\n",
       "</tr>\n",
       "<tr>\n",
       "  <th>key[F#]</th>          <td>   -0.9611</td> <td>    0.744</td> <td>   -1.293</td> <td> 0.196</td> <td>   -2.418</td> <td>    0.496</td>\n",
       "</tr>\n",
       "<tr>\n",
       "  <th>key[G]</th>           <td>   -1.4767</td> <td>    0.714</td> <td>   -2.070</td> <td> 0.038</td> <td>   -2.875</td> <td>   -0.078</td>\n",
       "</tr>\n",
       "<tr>\n",
       "  <th>key[G#]</th>          <td>   -1.6225</td> <td>    0.710</td> <td>   -2.284</td> <td> 0.022</td> <td>   -3.015</td> <td>   -0.230</td>\n",
       "</tr>\n",
       "<tr>\n",
       "  <th>mode[T.Minor]</th>    <td>   -0.0111</td> <td>    0.153</td> <td>   -0.072</td> <td> 0.942</td> <td>   -0.311</td> <td>    0.289</td>\n",
       "</tr>\n",
       "<tr>\n",
       "  <th>artist_count</th>     <td>   -0.0189</td> <td>    0.085</td> <td>   -0.221</td> <td> 0.825</td> <td>   -0.186</td> <td>    0.148</td>\n",
       "</tr>\n",
       "<tr>\n",
       "  <th>bpm</th>              <td>    0.0064</td> <td>    0.003</td> <td>    2.453</td> <td> 0.014</td> <td>    0.001</td> <td>    0.011</td>\n",
       "</tr>\n",
       "<tr>\n",
       "  <th>danceability</th>     <td>    0.0057</td> <td>    0.006</td> <td>    0.979</td> <td> 0.328</td> <td>   -0.006</td> <td>    0.017</td>\n",
       "</tr>\n",
       "<tr>\n",
       "  <th>valence</th>          <td>   -0.0007</td> <td>    0.004</td> <td>   -0.197</td> <td> 0.844</td> <td>   -0.008</td> <td>    0.006</td>\n",
       "</tr>\n",
       "<tr>\n",
       "  <th>energy</th>           <td>    0.0133</td> <td>    0.006</td> <td>    2.233</td> <td> 0.026</td> <td>    0.002</td> <td>    0.025</td>\n",
       "</tr>\n",
       "<tr>\n",
       "  <th>acousticness</th>     <td>    0.0012</td> <td>    0.004</td> <td>    0.342</td> <td> 0.732</td> <td>   -0.006</td> <td>    0.008</td>\n",
       "</tr>\n",
       "<tr>\n",
       "  <th>instrumentalness</th> <td>   -0.0183</td> <td>    0.009</td> <td>   -2.037</td> <td> 0.042</td> <td>   -0.036</td> <td>   -0.001</td>\n",
       "</tr>\n",
       "<tr>\n",
       "  <th>liveness</th>         <td>   -0.0057</td> <td>    0.005</td> <td>   -1.082</td> <td> 0.279</td> <td>   -0.016</td> <td>    0.005</td>\n",
       "</tr>\n",
       "<tr>\n",
       "  <th>speechiness</th>      <td>   -0.0275</td> <td>    0.007</td> <td>   -3.683</td> <td> 0.000</td> <td>   -0.042</td> <td>   -0.013</td>\n",
       "</tr>\n",
       "</table>"
      ],
      "text/plain": [
       "<class 'statsmodels.iolib.table.SimpleTable'>"
      ]
     },
     "execution_count": 7,
     "metadata": {},
     "output_type": "execute_result"
    }
   ],
   "source": [
    "import statsmodels.api as sm\n",
    "\n",
    "glm = sm.GLM(y, Xbase, family=sm.families.Binomial())\n",
    "results = glm.fit()\n",
    "results.summary().tables[1]"
   ]
  },
  {
   "cell_type": "markdown",
   "metadata": {},
   "source": [
    "## Using Scikit-learn for Logistic Regression\n",
    "\n",
    "The logistic regression is implemented in `LogisticRegression`. In this model, the probabilities describing the possible outcomes of a single trial are modeled using a logistic function.\n",
    "\n",
    "This implementation can fit binary, One-vs-Rest, or multinomial logistic regression with optional $\\ell_1$, $\\ell_2$ or Elastic-Net regularization.\n",
    "\n",
    "Regularization is applied by default, which is common in machine learning but not in statistics. Another advantage of regularization is that it improves numerical stability. No regularization amounts to setting C to a very high value.\n",
    "\n",
    "Logistic regression is a special case of Generalized Linear Models (GLM) with a Binomial / Bernoulli conditional distribution and a Logit link. The numerical output of the logistic regression, which is the predicted probability, can be used as a classifier by applying a threshold (by default 0.5) to it. This is how it is implemented in scikit-learn, so it expects a categorical target, making the Logistic Regression a classifier."
   ]
  },
  {
   "cell_type": "code",
   "execution_count": 8,
   "metadata": {},
   "outputs": [],
   "source": [
    "from sklearn.linear_model import LogisticRegression\n",
    "from sklearn.model_selection import train_test_split\n",
    "from sklearn.metrics import classification_report, confusion_matrix, roc_curve, auc"
   ]
  },
  {
   "cell_type": "code",
   "execution_count": 9,
   "metadata": {},
   "outputs": [
    {
     "name": "stdout",
     "output_type": "stream",
     "text": [
      "              precision    recall  f1-score   support\n",
      "\n",
      "           0       0.59      0.37      0.45       260\n",
      "           1       0.62      0.81      0.71       340\n",
      "\n",
      "    accuracy                           0.62       600\n",
      "   macro avg       0.61      0.59      0.58       600\n",
      "weighted avg       0.61      0.62      0.60       600\n",
      "\n"
     ]
    }
   ],
   "source": [
    "# Split the data into training and testing sets\n",
    "X_train, X_test, y_train, y_test = train_test_split(Xbase, y, test_size=0.3, random_state=42)\n",
    "\n",
    "# Fit the model\n",
    "clf = LogisticRegression()\n",
    "clf.fit(X_train, y_train)\n",
    "\n",
    "# Make predictions with train data\n",
    "y_pred = clf.predict(X_train)\n",
    "\n",
    "# Evaluate the model with train data\n",
    "print(classification_report(y_train, y_pred))"
   ]
  },
  {
   "cell_type": "markdown",
   "metadata": {},
   "source": [
    "- Precision measures the proportion of positive identifications that were actually correct. It is given by $\\text{TP} / (\\text{TP} + \\text{FP})$, where TP is the number of true positives and FP is the number of false positives. So if precision is 0.6, then 60% of the songs that the model predicted to be on the Spotify chart were actually on the chart.\n",
    "- Recall measures the proportion of actual positives that were identified correctly. It is given by $\\text{TP} / (\\text{TP} + \\text{FN})$, where FN is the number of false negatives. So if recall is 0.7, then 70% of the songs that were actually on the Spotify chart were correctly identified by the model.\n",
    "- The F1 score is the harmonic mean of precision and recall, and is given by $2 \\times \\text{Precision} \\times \\text{Recall} / (\\text{Precision} + \\text{Recall})$. So, if your F1 Score is high, it means your model has found a good balance between precision and recall.\n",
    "- Accuracy measures the proportion of true results (both true positives and true negatives) in the population. It is given by $(\\text{TP} + \\text{TN}) / (\\text{TP} + \\text{TN} + \\text{FP} + \\text{FN})$. So if accuracy is 0.8, then 80% of the songs were correctly classified by the model.\n",
    "- Macro-average calculates the metric independently for each class and then takes the average (hence treating all classes equally), whereas micro-average aggregates the contributions of all classes to compute the average metric."
   ]
  },
  {
   "cell_type": "code",
   "execution_count": 10,
   "metadata": {},
   "outputs": [
    {
     "name": "stdout",
     "output_type": "stream",
     "text": [
      "              precision    recall  f1-score   support\n",
      "\n",
      "           0       0.50      0.31      0.39       105\n",
      "           1       0.62      0.78      0.70       153\n",
      "\n",
      "    accuracy                           0.59       258\n",
      "   macro avg       0.56      0.55      0.54       258\n",
      "weighted avg       0.57      0.59      0.57       258\n",
      "\n"
     ]
    }
   ],
   "source": [
    "# Make predictions with test data\n",
    "y_pred = clf.predict(X_test)\n",
    "\n",
    "# Evaluate the model with test data\n",
    "print(classification_report(y_test, y_pred))"
   ]
  },
  {
   "cell_type": "markdown",
   "metadata": {},
   "source": [
    "As we have seen previously, the training error rate is often overly optimistic — it tends to underestimate the test error rate. In order to better assess the accuracy of the logistic regression model in this setting, we can fit the model using part of the data, and then examine how well it predicts the held out data."
   ]
  },
  {
   "cell_type": "code",
   "execution_count": 11,
   "metadata": {},
   "outputs": [
    {
     "data": {
      "text/plain": [
       "array([[ 33,  72],\n",
       "       [ 33, 120]])"
      ]
     },
     "execution_count": 11,
     "metadata": {},
     "output_type": "execute_result"
    }
   ],
   "source": [
    "# Confusion matrix\n",
    "confusion_matrix(y_test, y_pred) "
   ]
  },
  {
   "cell_type": "markdown",
   "metadata": {},
   "source": [
    "In the confusion matrix, each row represents the actual class, while each column represents the predicted class."
   ]
  },
  {
   "cell_type": "code",
   "execution_count": 12,
   "metadata": {},
   "outputs": [
    {
     "data": {
      "image/png": "[encoded data removed]",
      "text/plain": [
       "<Figure size 432x288 with 1 Axes>"
      ]
     },
     "metadata": {
      "image/png": {
       "height": 277,
       "width": 393
      },
      "needs_background": "light"
     },
     "output_type": "display_data"
    }
   ],
   "source": [
    "# ROC curve\n",
    "y_pred_proba = clf.predict_proba(X_test)[:, 1]\n",
    "fpr, tpr, thresholds = roc_curve(y_test, y_pred_proba)\n",
    "roc_auc = auc(fpr, tpr)\n",
    "\n",
    "plt.figure()\n",
    "plt.plot(fpr, tpr, color='blue', label='ROC curve (area = %0.2f)' % roc_auc)\n",
    "plt.plot([0, 1], [0, 1], color='red', linestyle='--')\n",
    "plt.xlim([0.0, 1.0])\n",
    "plt.ylim([0.0, 1.05])\n",
    "plt.xlabel('False Positive Rate')\n",
    "plt.ylabel('True Positive Rate')\n",
    "plt.title('Receiver Operating Characteristic')\n",
    "plt.legend(loc='lower right')\n",
    "plt.show() \n"
   ]
  },
  {
   "cell_type": "markdown",
   "metadata": {},
   "source": [
    "The ROC curve is drawn by calculating the true positive rate (TPR) and false positive rate (FPR) at every possible threshold (in practice, at selected intervals), then graphing TPR over FPR. \n",
    "\n",
    "The area under the ROC curve (AUC) is a measure of the accuracy of the model. AUC represents the probability that the model, if given a randomly chosen positive and negative example, will rank the positive higher than the negative. An AUC of 0.5 indicates that the model is no better than random, while an AUC of 1 indicates that the model is perfect."
   ]
  },
  {
   "cell_type": "markdown",
   "metadata": {},
   "source": [
    "## Linear Discriminant Analysis\n",
    "\n"
   ]
  },
  {
   "cell_type": "code",
   "execution_count": 11,
   "metadata": {},
   "outputs": [
    {
     "name": "stdout",
     "output_type": "stream",
     "text": [
      "              precision    recall  f1-score   support\n",
      "\n",
      "           0       0.47      0.31      0.38       105\n",
      "           1       0.62      0.76      0.68       153\n",
      "\n",
      "    accuracy                           0.58       258\n",
      "   macro avg       0.54      0.54      0.53       258\n",
      "weighted avg       0.56      0.58      0.56       258\n",
      "\n"
     ]
    }
   ],
   "source": [
    "from sklearn.discriminant_analysis import LinearDiscriminantAnalysis\n",
    "\n",
    "# Fit the model\n",
    "clf = LinearDiscriminantAnalysis()\n",
    "clf.fit(X_train, y_train)\n",
    "\n",
    "# Make predictions with test data\n",
    "y_pred = clf.predict(X_test)\n",
    "\n",
    "# Evaluate the model with test data\n",
    "print(classification_report(y_test, y_pred))"
   ]
  },
  {
   "cell_type": "code",
   "execution_count": 12,
   "metadata": {},
   "outputs": [
    {
     "data": {
      "text/plain": [
       "array([[ 33,  72],\n",
       "       [ 37, 116]])"
      ]
     },
     "execution_count": 12,
     "metadata": {},
     "output_type": "execute_result"
    }
   ],
   "source": [
    "# Confusion matrix\n",
    "confusion_matrix(y_test, y_pred) "
   ]
  },
  {
   "cell_type": "markdown",
   "metadata": {},
   "source": [
    "## K-Nearest Neighbors"
   ]
  },
  {
   "cell_type": "code",
   "execution_count": 13,
   "metadata": {},
   "outputs": [
    {
     "name": "stdout",
     "output_type": "stream",
     "text": [
      "              precision    recall  f1-score   support\n",
      "\n",
      "           0       0.43      0.34      0.38       105\n",
      "           1       0.60      0.69      0.64       153\n",
      "\n",
      "    accuracy                           0.55       258\n",
      "   macro avg       0.52      0.51      0.51       258\n",
      "weighted avg       0.53      0.55      0.54       258\n",
      "\n"
     ]
    }
   ],
   "source": [
    "from sklearn.neighbors import KNeighborsClassifier\n",
    "\n",
    "# Fit KNN model\n",
    "clf = KNeighborsClassifier(n_neighbors=3)\n",
    "clf.fit(X_train, y_train)\n",
    "\n",
    "# Make predictions with test data\n",
    "y_pred = clf.predict(X_test)\n",
    "\n",
    "# Evaluate the model with test data\n",
    "print(classification_report(y_test, y_pred))"
   ]
  },
  {
   "cell_type": "code",
   "execution_count": 14,
   "metadata": {},
   "outputs": [
    {
     "name": "stdout",
     "output_type": "stream",
     "text": [
      "Best parameters for KNN: 15\n",
      "Best cross-validation score for KNN: 0.58\n",
      "              precision    recall  f1-score   support\n",
      "\n",
      "           0       0.47      0.27      0.34       105\n",
      "           1       0.61      0.80      0.69       153\n",
      "\n",
      "    accuracy                           0.58       258\n",
      "   macro avg       0.54      0.53      0.52       258\n",
      "weighted avg       0.56      0.58      0.55       258\n",
      "\n"
     ]
    }
   ],
   "source": [
    "# Tuning KNN model\n",
    "from sklearn.model_selection import GridSearchCV\n",
    "\n",
    "param_grid = {'n_neighbors': np.arange(1, 20)}\n",
    "knn = KNeighborsClassifier()\n",
    "knn_cv = GridSearchCV(knn, param_grid, cv=5)\n",
    "knn_cv.fit(X_train, y_train)\n",
    "\n",
    "# Best parameters\n",
    "print(\"Best parameters for KNN:\", knn_cv.best_params_['n_neighbors'])\n",
    "print(\"Best cross-validation score for KNN:\", round(knn_cv.best_score_, 2))\n",
    "\n",
    "# Make predictions with the best KNN model\n",
    "y_pred = knn_cv.predict(X_test)\n",
    "\n",
    "# Evaluate the model with test data\n",
    "print(classification_report(y_test, y_pred))"
   ]
  },
  {
   "cell_type": "markdown",
   "metadata": {},
   "source": [
    "## Support Vector Machines"
   ]
  },
  {
   "cell_type": "code",
   "execution_count": 15,
   "metadata": {},
   "outputs": [
    {
     "name": "stdout",
     "output_type": "stream",
     "text": [
      "              precision    recall  f1-score   support\n",
      "\n",
      "           0       0.40      0.02      0.04       105\n",
      "           1       0.59      0.98      0.74       153\n",
      "\n",
      "    accuracy                           0.59       258\n",
      "   macro avg       0.50      0.50      0.39       258\n",
      "weighted avg       0.51      0.59      0.45       258\n",
      "\n"
     ]
    }
   ],
   "source": [
    "# Fit Support Vector Machine model\n",
    "from sklearn.svm import SVC\n",
    "\n",
    "clf = SVC(probability=True)\n",
    "clf.fit(X_train, y_train)\n",
    "\n",
    "# Make predictions with test data\n",
    "y_pred = clf.predict(X_test)\n",
    "\n",
    "# Evaluate the model with test data\n",
    "print(classification_report(y_test, y_pred))"
   ]
  },
  {
   "cell_type": "code",
   "execution_count": null,
   "metadata": {},
   "outputs": [],
   "source": [
    "# Confusion matrix\n",
    "confusion_matrix(y_test, y_pred) "
   ]
  }
 ],
 "metadata": {
  "kernelspec": {
   "display_name": "base",
   "language": "python",
   "name": "python3"
  },
  "language_info": {
   "codemirror_mode": {
    "name": "ipython",
    "version": 3
   },
   "file_extension": ".py",
   "mimetype": "text/x-python",
   "name": "python",
   "nbconvert_exporter": "python",
   "pygments_lexer": "ipython3",
   "version": "3.9.12"
  }
 },
 "nbformat": 4,
 "nbformat_minor": 2
}
