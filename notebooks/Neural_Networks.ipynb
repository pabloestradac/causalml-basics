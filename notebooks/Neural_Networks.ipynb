{
 "cells": [
  {
   "cell_type": "markdown",
   "metadata": {},
   "source": [
    "# Neural Networks\n",
    "\n",
    "This notebook is a simple introduction to neural networks. \n",
    "\n",
    "We will first use the `scikit-learn` library to create a simple neural network model to classify the MNIST dataset. For more information, you can check the [documentation](https://scikit-learn.org/stable/modules/generated/sklearn.neural_network.MLPClassifier.html).\n",
    "\n",
    "Then, we will use the `pytorch` library to create a more complex neural network model to classify the MNIST dataset. For more information, you can check the [documentation](https://pytorch.org/docs/stable/index.html)."
   ]
  },
  {
   "cell_type": "code",
   "execution_count": 1,
   "metadata": {},
   "outputs": [],
   "source": [
    "# Import libraries\n",
    "import numpy as np\n",
    "import matplotlib.pyplot as plt\n",
    "\n",
    "import warnings\n",
    "warnings.simplefilter('ignore')\n",
    "\n",
    "%matplotlib inline\n",
    "%config InlineBackend.figure_format = \"retina\""
   ]
  },
  {
   "cell_type": "markdown",
   "metadata": {},
   "source": [
    "## Data\n",
    "\n",
    "We use MNIST dataset which is a dataset of 28x28 pixel handwritten digits, leading to 784 features in the dataset. Therefore the first layer weight matrix has the shape (784, hidden_layer_sizes[0]).\n",
    "\n",
    "<!-- To make the example run faster, we use very few hidden units, and train only for a very short time. Training longer would result in weights with a much smoother spatial appearance. The example will throw a warning because it doesn’t converge, in this case this is what we want because of resource usage constraints on our Continuous Integration infrastructure that is used to build this documentation on a regular basis. -->"
   ]
  },
  {
   "cell_type": "code",
   "execution_count": 2,
   "metadata": {},
   "outputs": [
    {
     "name": "stdout",
     "output_type": "stream",
     "text": [
      "Data size: (70000, 784)\n"
     ]
    }
   ],
   "source": [
    "from sklearn.datasets import fetch_openml\n",
    "from sklearn.model_selection import train_test_split\n",
    "\n",
    "# Load data from https://www.openml.org/d/554\n",
    "mnist = fetch_openml('mnist_784', as_frame=False, cache=False)\n",
    "X = mnist.data.astype('float32')\n",
    "y = mnist.target.astype('int64')\n",
    "\n",
    "# We scale X from [0, 255] to [0, 1].\n",
    "X /= 255.0\n",
    "\n",
    "# Split data into train and test partition\n",
    "X_train, X_test, y_train, y_test = train_test_split(X, y, random_state=0, test_size=0.7)\n",
    "\n",
    "# Shape of the data\n",
    "print(f\"Data size: {mnist.data.shape}\")"
   ]
  },
  {
   "cell_type": "code",
   "execution_count": 3,
   "metadata": {},
   "outputs": [
    {
     "data": {
      "image/png": "[encoded data removed]",
      "text/plain": [
       "<Figure size 640x480 with 5 Axes>"
      ]
     },
     "metadata": {
      "image/png": {
       "height": 126,
       "width": 516
      }
     },
     "output_type": "display_data"
    }
   ],
   "source": [
    "def plot_example(X, y):\n",
    "    \"\"\"Plot the first 5 images and their labels in a row.\"\"\"\n",
    "    for i, (img, y) in enumerate(zip(X[:5].reshape(5, 28, 28), y[:5])):\n",
    "        plt.subplot(151 + i)\n",
    "        plt.imshow(img)\n",
    "        plt.xticks([])\n",
    "        plt.yticks([])\n",
    "        plt.title(y)\n",
    "\n",
    "plot_example(X_train, y_train)"
   ]
  },
  {
   "cell_type": "markdown",
   "metadata": {},
   "source": [
    "## Multi-layer Perceptron\n",
    "\n",
    "Multi-layer Perceptron (MLP) is a supervised learning algorithm that learns a function $f: R^m \\rightarrow R^o$ by training on a dataset, where $m$ is the number of dimensions for input and $o$ is the number of dimensions for output. \n",
    "\n",
    "Given a set of features $X=x_1, x_2, \\ldots, x_m$ and a target $y$, it can learn a non-linear function approximator for either classification or regression. It is different from logistic regression, in that between the input and the output layer, there can be one or more non-linear layers, called hidden layers.\n",
    "\n",
    "<img src=\"https://scikit-learn.org/1.5/_images/multilayerperceptron_network.png\" alt=\"drawing\" width=\"250\"/>\n",
    "\n",
    "The leftmost layer, known as the input layer, consists of a set of neurons $\\left\\{x_i \\mid x_1, x_2, \\ldots, x_m\\right\\}$ representing the input features. \n",
    "\n",
    "Each neuron in the hidden layer transforms the values from the previous layer with a weighted linear summation $w_1 x_1+w_2 x_2+\\ldots+w_m x_m$, followed by a non-linear activation function $g(\\cdot): R \\rightarrow R$ - like the hyperbolic tan function. \n",
    "\n",
    "The output layer receives the values from the last hidden layer and transforms them into output values."
   ]
  },
  {
   "cell_type": "code",
   "execution_count": 4,
   "metadata": {},
   "outputs": [
    {
     "name": "stdout",
     "output_type": "stream",
     "text": [
      "Iteration 1, loss = 0.43876685\n",
      "Iteration 2, loss = 0.18161919\n",
      "Iteration 3, loss = 0.13374560\n",
      "Iteration 4, loss = 0.10868498\n",
      "Iteration 5, loss = 0.09370375\n",
      "Iteration 6, loss = 0.07700252\n",
      "Iteration 7, loss = 0.06711730\n",
      "Iteration 8, loss = 0.05946887\n",
      "Training set score: 0.988619\n",
      "Test set score: 0.955735\n"
     ]
    }
   ],
   "source": [
    "from sklearn.neural_network import MLPClassifier\n",
    "\n",
    "mlp = MLPClassifier(\n",
    "    hidden_layer_sizes=(40,),  # number of neurons in the ith hidden layer\n",
    "    max_iter=8,  # solver iterates until convergence or this number of iterations\n",
    "    alpha=1e-4,  # L2 penalty (regularization term) parameter\n",
    "    solver=\"sgd\",  # solver for weight optimization: stochastic gradient descent\n",
    "    learning_rate_init=0.2,  # controls the step-size in updating the weights\n",
    "    verbose=True,\n",
    "    random_state=42,\n",
    ")\n",
    "\n",
    "mlp.fit(X_train, y_train)\n",
    "\n",
    "print(\"Training set score: %f\" % mlp.score(X_train, y_train))\n",
    "print(\"Test set score: %f\" % mlp.score(X_test, y_test))"
   ]
  },
  {
   "cell_type": "markdown",
   "metadata": {},
   "source": [
    "### Main Parameters\n",
    "- `hidden_layer_sizes`: The number of neurons in the hidden layer.\n",
    "- `activation`: The activation function for the hidden layer.\n",
    "- `solver`: The solver for weight optimization.\n",
    "- `alpha`: The L2 penalty (regularization term) parameter.\n",
    "- `learning_rate_init`: It controls the step-size in updating the weights.\n",
    "\n",
    "### Tips on Practical Use\n",
    "- Multi-layer Perceptron is sensitive to feature scaling, so it is highly recommended to scale your data.\n",
    "- Finding a reasonable regularization parameter $\\alpha$ is best done using GridSearchCV.\n",
    "- Empirically, we observed that L-BFGS converges faster and with better solutions on small datasets. For relatively large datasets, however, Adam is very robust.\n",
    "\n",
    "### Visualizing Neural Networks\n",
    "To visualize the working of a neural network, we can use [Tensorflow Playground](https://playground.tensorflow.org/), which produced a prediction regression model using a simple single layer neural network model based on two input variables."
   ]
  },
  {
   "cell_type": "markdown",
   "metadata": {},
   "source": [
    "## Using PyTorch and skorch\n",
    "\n",
    "For more information on how to use skorch, you can check the [documentation](https://skorch.readthedocs.io/en/stable/). And for PyTorch, you can check the [documentation](https://pytorch.org/tutorials/beginner/basics/intro.html).\n",
    "\n",
    "We will build a simple, fully connected neural network with one hidden layer. \n",
    "\n",
    "Input layer has 784 dimensions (28x28), hidden layer has 98 (= 784 / 8) and output layer 10 neurons, representing digits 0 - 9."
   ]
  },
  {
   "cell_type": "code",
   "execution_count": 5,
   "metadata": {},
   "outputs": [
    {
     "name": "stdout",
     "output_type": "stream",
     "text": [
      "Input dim: 784, Hidden dim: 98, Output dim: 10\n"
     ]
    }
   ],
   "source": [
    "import torch\n",
    "from torch import nn, optim\n",
    "import torch.nn.functional as F\n",
    "\n",
    "mnist_dim = X.shape[1]\n",
    "hidden_dim = int(mnist_dim/8)\n",
    "output_dim = len(np.unique(mnist.target))\n",
    "\n",
    "print(f\"Input dim: {mnist_dim}, Hidden dim: {hidden_dim}, Output dim: {output_dim}\")"
   ]
  },
  {
   "cell_type": "markdown",
   "metadata": {},
   "source": [
    "To define a neural network in PyTorch, we create a class that inherits from [nn.Module](https://pytorch.org/docs/stable/generated/torch.nn.Module.html).\n",
    "\n",
    "We define the layers of the network in the `__init__` function and specify how data will pass through the network in the `forward` function. To accelerate operations in the neural network, we move it to the GPU or MPS if available."
   ]
  },
  {
   "cell_type": "code",
   "execution_count": 6,
   "metadata": {},
   "outputs": [],
   "source": [
    "class ClassifierModule(nn.Module):\n",
    "    def __init__(\n",
    "            self,\n",
    "            input_dim=mnist_dim,\n",
    "            hidden_dim=hidden_dim,\n",
    "            output_dim=output_dim,\n",
    "            dropout=0.5,\n",
    "    ):\n",
    "        super(ClassifierModule, self).__init__()\n",
    "        self.dropout = nn.Dropout(dropout)\n",
    "\n",
    "        self.hidden = nn.Linear(input_dim, hidden_dim)\n",
    "        self.output = nn.Linear(hidden_dim, output_dim)\n",
    "\n",
    "    def forward(self, X, **kwargs):\n",
    "        X = F.relu(self.hidden(X))\n",
    "        X = self.dropout(X)\n",
    "        X = F.softmax(self.output(X), dim=-1)\n",
    "        return X"
   ]
  },
  {
   "cell_type": "code",
   "execution_count": 7,
   "metadata": {},
   "outputs": [],
   "source": [
    "import skorch"
   ]
  },
  {
   "cell_type": "code",
   "execution_count": 8,
   "metadata": {},
   "outputs": [],
   "source": [
    "torch.manual_seed(42)\n",
    "\n",
    "device = 'cuda' if torch.cuda.is_available() else 'cpu'\n",
    "\n",
    "net = skorch.NeuralNetClassifier(\n",
    "    ClassifierModule,\n",
    "    max_epochs=20,\n",
    "    lr=0.1,\n",
    "    device=device,\n",
    ")"
   ]
  },
  {
   "cell_type": "code",
   "execution_count": 9,
   "metadata": {},
   "outputs": [
    {
     "name": "stdout",
     "output_type": "stream",
     "text": [
      "  epoch    train_loss    valid_acc    valid_loss     dur\n",
      "-------  ------------  -----------  ------------  ------\n",
      "      1        \u001b[36m1.2392\u001b[0m       \u001b[32m0.8571\u001b[0m        \u001b[35m0.5637\u001b[0m  0.3654\n",
      "      2        \u001b[36m0.6047\u001b[0m       \u001b[32m0.8933\u001b[0m        \u001b[35m0.3982\u001b[0m  0.3180\n",
      "      3        \u001b[36m0.4972\u001b[0m       \u001b[32m0.9048\u001b[0m        \u001b[35m0.3435\u001b[0m  0.3199\n",
      "      4        \u001b[36m0.4356\u001b[0m       \u001b[32m0.9167\u001b[0m        \u001b[35m0.3049\u001b[0m  0.3232\n",
      "      5        \u001b[36m0.3972\u001b[0m       \u001b[32m0.9238\u001b[0m        \u001b[35m0.2799\u001b[0m  0.3167\n",
      "      6        \u001b[36m0.3666\u001b[0m       \u001b[32m0.9255\u001b[0m        \u001b[35m0.2627\u001b[0m  0.3150\n",
      "      7        \u001b[36m0.3463\u001b[0m       \u001b[32m0.9298\u001b[0m        \u001b[35m0.2488\u001b[0m  0.3512\n",
      "      8        \u001b[36m0.3200\u001b[0m       \u001b[32m0.9319\u001b[0m        \u001b[35m0.2351\u001b[0m  0.3200\n",
      "      9        \u001b[36m0.3140\u001b[0m       \u001b[32m0.9340\u001b[0m        \u001b[35m0.2239\u001b[0m  0.3191\n",
      "     10        \u001b[36m0.3015\u001b[0m       \u001b[32m0.9348\u001b[0m        \u001b[35m0.2203\u001b[0m  0.3155\n",
      "     11        \u001b[36m0.2833\u001b[0m       \u001b[32m0.9410\u001b[0m        \u001b[35m0.2042\u001b[0m  0.3152\n",
      "     12        \u001b[36m0.2689\u001b[0m       0.9393        \u001b[35m0.1987\u001b[0m  0.3354\n",
      "     13        \u001b[36m0.2642\u001b[0m       \u001b[32m0.9433\u001b[0m        \u001b[35m0.1934\u001b[0m  0.3219\n",
      "     14        \u001b[36m0.2555\u001b[0m       \u001b[32m0.9452\u001b[0m        \u001b[35m0.1879\u001b[0m  0.3148\n",
      "     15        \u001b[36m0.2467\u001b[0m       \u001b[32m0.9460\u001b[0m        \u001b[35m0.1833\u001b[0m  0.3216\n",
      "     16        \u001b[36m0.2390\u001b[0m       \u001b[32m0.9486\u001b[0m        \u001b[35m0.1790\u001b[0m  0.3174\n",
      "     17        \u001b[36m0.2354\u001b[0m       \u001b[32m0.9507\u001b[0m        \u001b[35m0.1736\u001b[0m  0.3166\n",
      "     18        \u001b[36m0.2282\u001b[0m       \u001b[32m0.9529\u001b[0m        \u001b[35m0.1708\u001b[0m  0.3169\n",
      "     19        \u001b[36m0.2189\u001b[0m       0.9526        \u001b[35m0.1693\u001b[0m  0.3166\n",
      "     20        \u001b[36m0.2180\u001b[0m       0.9521        \u001b[35m0.1684\u001b[0m  0.3179\n"
     ]
    }
   ],
   "source": [
    "net.fit(X_train, y_train);"
   ]
  },
  {
   "cell_type": "code",
   "execution_count": 10,
   "metadata": {},
   "outputs": [
    {
     "name": "stdout",
     "output_type": "stream",
     "text": [
      "Accuracy: 0.9464081632653061\n"
     ]
    }
   ],
   "source": [
    "from sklearn.metrics import accuracy_score\n",
    "\n",
    "y_pred = net.predict(X_test)\n",
    "\n",
    "print(f\"Accuracy: {accuracy_score(y_test, y_pred)}\")"
   ]
  },
  {
   "cell_type": "code",
   "execution_count": 11,
   "metadata": {},
   "outputs": [
    {
     "data": {
      "image/png": "[encoded data removed]",
      "text/plain": [
       "<Figure size 640x480 with 5 Axes>"
      ]
     },
     "metadata": {
      "image/png": {
       "height": 126,
       "width": 516
      }
     },
     "output_type": "display_data"
    }
   ],
   "source": [
    "error_mask = y_pred != y_test\n",
    "\n",
    "plot_example(X_test[error_mask], y_pred[error_mask])"
   ]
  },
  {
   "cell_type": "code",
   "execution_count": null,
   "metadata": {},
   "outputs": [],
   "source": []
  }
 ],
 "metadata": {
  "kernelspec": {
   "display_name": "causalML",
   "language": "python",
   "name": "python3"
  },
  "language_info": {
   "codemirror_mode": {
    "name": "ipython",
    "version": 3
   },
   "file_extension": ".py",
   "mimetype": "text/x-python",
   "name": "python",
   "nbconvert_exporter": "python",
   "pygments_lexer": "ipython3",
   "version": "3.9.18"
  }
 },
 "nbformat": 4,
 "nbformat_minor": 2
}
