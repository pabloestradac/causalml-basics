{
 "cells": [
  {
   "cell_type": "markdown",
   "metadata": {},
   "source": [
    "# Classification with Imbalanced Data\n",
    "\n",
    "The dataset contains information about customer transactions and can be found [here](https://www.kaggle.com/datasets/computingvictor/transactions-fraud-datasets). It has been modified for the purpose of this notebook.\n",
    "\n",
    "The objective is to build a predictive model that can accurately classify whether a customer will churn based on these features. This notebook is based on [imbalanced-learn](https://imbalanced-learn.org/stable/auto_examples/applications/plot_impact_imbalanced_classes.html#)."
   ]
  },
  {
   "cell_type": "code",
   "execution_count": 1,
   "metadata": {},
   "outputs": [],
   "source": [
    "# Core libraries\n",
    "import pandas as pd\n",
    "\n",
    "%config InlineBackend.figure_format = \"retina\""
   ]
  },
  {
   "cell_type": "markdown",
   "metadata": {},
   "source": [
    "## Data"
   ]
  },
  {
   "cell_type": "code",
   "execution_count": 2,
   "metadata": {},
   "outputs": [
    {
     "data": {
      "text/html": [
       "<div>\n",
       "<style scoped>\n",
       "    .dataframe tbody tr th:only-of-type {\n",
       "        vertical-align: middle;\n",
       "    }\n",
       "\n",
       "    .dataframe tbody tr th {\n",
       "        vertical-align: top;\n",
       "    }\n",
       "\n",
       "    .dataframe thead th {\n",
       "        text-align: right;\n",
       "    }\n",
       "</style>\n",
       "<table border=\"1\" class=\"dataframe\">\n",
       "  <thead>\n",
       "    <tr style=\"text-align: right;\">\n",
       "      <th></th>\n",
       "      <th>num_transactions</th>\n",
       "      <th>total_amount</th>\n",
       "      <th>avg_amount</th>\n",
       "      <th>std_amount</th>\n",
       "      <th>churn</th>\n",
       "      <th>current_age</th>\n",
       "      <th>yearly_income</th>\n",
       "      <th>total_debt</th>\n",
       "      <th>credit_score</th>\n",
       "      <th>num_credit_cards</th>\n",
       "    </tr>\n",
       "  </thead>\n",
       "  <tbody>\n",
       "    <tr>\n",
       "      <th>count</th>\n",
       "      <td>1219.00</td>\n",
       "      <td>1219.00</td>\n",
       "      <td>1219.00</td>\n",
       "      <td>1219.00</td>\n",
       "      <td>1219.00</td>\n",
       "      <td>1219.00</td>\n",
       "      <td>1219.00</td>\n",
       "      <td>1219.00</td>\n",
       "      <td>1219.00</td>\n",
       "      <td>1219.00</td>\n",
       "    </tr>\n",
       "    <tr>\n",
       "      <th>mean</th>\n",
       "      <td>10915.43</td>\n",
       "      <td>469102.15</td>\n",
       "      <td>43.91</td>\n",
       "      <td>78.71</td>\n",
       "      <td>0.03</td>\n",
       "      <td>53.05</td>\n",
       "      <td>45117.95</td>\n",
       "      <td>58196.86</td>\n",
       "      <td>713.22</td>\n",
       "      <td>3.70</td>\n",
       "    </tr>\n",
       "    <tr>\n",
       "      <th>std</th>\n",
       "      <td>5607.36</td>\n",
       "      <td>292602.85</td>\n",
       "      <td>17.48</td>\n",
       "      <td>27.27</td>\n",
       "      <td>0.18</td>\n",
       "      <td>15.66</td>\n",
       "      <td>23292.43</td>\n",
       "      <td>51255.43</td>\n",
       "      <td>65.55</td>\n",
       "      <td>1.57</td>\n",
       "    </tr>\n",
       "    <tr>\n",
       "      <th>min</th>\n",
       "      <td>760.00</td>\n",
       "      <td>26605.34</td>\n",
       "      <td>5.34</td>\n",
       "      <td>9.71</td>\n",
       "      <td>0.00</td>\n",
       "      <td>23.00</td>\n",
       "      <td>1.00</td>\n",
       "      <td>0.00</td>\n",
       "      <td>488.00</td>\n",
       "      <td>1.00</td>\n",
       "    </tr>\n",
       "    <tr>\n",
       "      <th>25%</th>\n",
       "      <td>7223.50</td>\n",
       "      <td>269693.84</td>\n",
       "      <td>32.22</td>\n",
       "      <td>61.25</td>\n",
       "      <td>0.00</td>\n",
       "      <td>41.00</td>\n",
       "      <td>32075.00</td>\n",
       "      <td>18527.50</td>\n",
       "      <td>684.00</td>\n",
       "      <td>3.00</td>\n",
       "    </tr>\n",
       "    <tr>\n",
       "      <th>50%</th>\n",
       "      <td>9832.00</td>\n",
       "      <td>398837.16</td>\n",
       "      <td>40.72</td>\n",
       "      <td>74.25</td>\n",
       "      <td>0.00</td>\n",
       "      <td>51.00</td>\n",
       "      <td>40012.00</td>\n",
       "      <td>51984.00</td>\n",
       "      <td>715.00</td>\n",
       "      <td>4.00</td>\n",
       "    </tr>\n",
       "    <tr>\n",
       "      <th>75%</th>\n",
       "      <td>13349.00</td>\n",
       "      <td>597774.02</td>\n",
       "      <td>52.55</td>\n",
       "      <td>91.87</td>\n",
       "      <td>0.00</td>\n",
       "      <td>63.00</td>\n",
       "      <td>52176.50</td>\n",
       "      <td>84080.50</td>\n",
       "      <td>755.00</td>\n",
       "      <td>5.00</td>\n",
       "    </tr>\n",
       "    <tr>\n",
       "      <th>max</th>\n",
       "      <td>48479.00</td>\n",
       "      <td>2445773.25</td>\n",
       "      <td>147.24</td>\n",
       "      <td>279.91</td>\n",
       "      <td>1.00</td>\n",
       "      <td>101.00</td>\n",
       "      <td>280199.00</td>\n",
       "      <td>461854.00</td>\n",
       "      <td>850.00</td>\n",
       "      <td>9.00</td>\n",
       "    </tr>\n",
       "  </tbody>\n",
       "</table>\n",
       "</div>"
      ],
      "text/plain": [
       "       num_transactions  total_amount  avg_amount  std_amount    churn  \\\n",
       "count           1219.00       1219.00     1219.00     1219.00  1219.00   \n",
       "mean           10915.43     469102.15       43.91       78.71     0.03   \n",
       "std             5607.36     292602.85       17.48       27.27     0.18   \n",
       "min              760.00      26605.34        5.34        9.71     0.00   \n",
       "25%             7223.50     269693.84       32.22       61.25     0.00   \n",
       "50%             9832.00     398837.16       40.72       74.25     0.00   \n",
       "75%            13349.00     597774.02       52.55       91.87     0.00   \n",
       "max            48479.00    2445773.25      147.24      279.91     1.00   \n",
       "\n",
       "       current_age  yearly_income  total_debt  credit_score  num_credit_cards  \n",
       "count      1219.00        1219.00     1219.00       1219.00           1219.00  \n",
       "mean         53.05       45117.95    58196.86        713.22              3.70  \n",
       "std          15.66       23292.43    51255.43         65.55              1.57  \n",
       "min          23.00           1.00        0.00        488.00              1.00  \n",
       "25%          41.00       32075.00    18527.50        684.00              3.00  \n",
       "50%          51.00       40012.00    51984.00        715.00              4.00  \n",
       "75%          63.00       52176.50    84080.50        755.00              5.00  \n",
       "max         101.00      280199.00   461854.00        850.00              9.00  "
      ]
     },
     "execution_count": 2,
     "metadata": {},
     "output_type": "execute_result"
    }
   ],
   "source": [
    "# Read data\n",
    "path_data = \"https://github.com/pabloestradac/causalml-basics/raw/main/data/\"\n",
    "df = pd.read_csv(path_data + 'churn.csv')\n",
    "df.describe().round(2)"
   ]
  },
  {
   "cell_type": "markdown",
   "metadata": {},
   "source": [
    "Only 3% of the customers in the dataset have churned. This is a highly imbalanced dataset."
   ]
  },
  {
   "cell_type": "markdown",
   "metadata": {},
   "source": [
    "## Logit"
   ]
  },
  {
   "cell_type": "code",
   "execution_count": 3,
   "metadata": {},
   "outputs": [],
   "source": [
    "from sklearn.impute import SimpleImputer\n",
    "from sklearn.pipeline import make_pipeline\n",
    "from sklearn.preprocessing import OneHotEncoder, StandardScaler\n",
    "from sklearn.compose import make_column_selector, make_column_transformer\n",
    "from sklearn.linear_model import LogisticRegression\n",
    "from sklearn.model_selection import cross_validate\n",
    "\n",
    "num_pipe = make_pipeline(\n",
    "    StandardScaler(), SimpleImputer(strategy=\"mean\", add_indicator=True)\n",
    ")\n",
    "cat_pipe = make_pipeline(\n",
    "    SimpleImputer(strategy=\"constant\", fill_value=\"missing\"),\n",
    "    OneHotEncoder(handle_unknown=\"ignore\"),\n",
    ")\n",
    "\n",
    "preprocessor_linear = make_column_transformer(\n",
    "    (num_pipe, make_column_selector(dtype_include=\"number\")),\n",
    "    (cat_pipe, make_column_selector(dtype_include=\"category\")),\n",
    "    n_jobs=2,\n",
    ")\n",
    "\n",
    "lr_clf = make_pipeline(preprocessor_linear, LogisticRegression(max_iter=1000))"
   ]
  },
  {
   "cell_type": "markdown",
   "metadata": {},
   "source": [
    "We will start with `LogisticRegression` as a linear classifier baseline with one-hot encoding for categorical columns and standardization for the numerical columns."
   ]
  },
  {
   "cell_type": "code",
   "execution_count": 4,
   "metadata": {},
   "outputs": [],
   "source": [
    "index = []\n",
    "scores = {\"Accuracy\": [], \"Balanced accuracy\": []}\n",
    "scoring = [\"accuracy\", \"balanced_accuracy\"]\n",
    "\n",
    "X = df.drop(columns=['churn'])\n",
    "y = df['churn']"
   ]
  },
  {
   "cell_type": "code",
   "execution_count": 5,
   "metadata": {},
   "outputs": [
    {
     "data": {
      "text/html": [
       "<div>\n",
       "<style scoped>\n",
       "    .dataframe tbody tr th:only-of-type {\n",
       "        vertical-align: middle;\n",
       "    }\n",
       "\n",
       "    .dataframe tbody tr th {\n",
       "        vertical-align: top;\n",
       "    }\n",
       "\n",
       "    .dataframe thead th {\n",
       "        text-align: right;\n",
       "    }\n",
       "</style>\n",
       "<table border=\"1\" class=\"dataframe\">\n",
       "  <thead>\n",
       "    <tr style=\"text-align: right;\">\n",
       "      <th></th>\n",
       "      <th>Accuracy</th>\n",
       "      <th>Balanced accuracy</th>\n",
       "    </tr>\n",
       "  </thead>\n",
       "  <tbody>\n",
       "    <tr>\n",
       "      <th>Logistic regression</th>\n",
       "      <td>0.966</td>\n",
       "      <td>0.512</td>\n",
       "    </tr>\n",
       "  </tbody>\n",
       "</table>\n",
       "</div>"
      ],
      "text/plain": [
       "                     Accuracy  Balanced accuracy\n",
       "Logistic regression     0.966              0.512"
      ]
     },
     "execution_count": 5,
     "metadata": {},
     "output_type": "execute_result"
    }
   ],
   "source": [
    "index += [\"Logistic regression\"]\n",
    "cv_result = cross_validate(lr_clf, X, y, scoring=scoring, cv=3)\n",
    "scores[\"Accuracy\"].append(cv_result[\"test_accuracy\"].mean())\n",
    "scores[\"Balanced accuracy\"].append(cv_result[\"test_balanced_accuracy\"].mean())\n",
    "\n",
    "df_scores = pd.DataFrame(scores, index=index).round(3)\n",
    "df_scores"
   ]
  },
  {
   "cell_type": "markdown",
   "metadata": {},
   "source": [
    "The balanced accuracy score is the macro-average of recall scores per class or, equivalently, raw accuracy where each sample is weighted according to the inverse prevalence of its true class. Thus for balanced datasets, the score is equal to accuracy."
   ]
  },
  {
   "cell_type": "markdown",
   "metadata": {},
   "source": [
    "## Random Forest"
   ]
  },
  {
   "cell_type": "code",
   "execution_count": 6,
   "metadata": {},
   "outputs": [],
   "source": [
    "from sklearn.ensemble import RandomForestClassifier\n",
    "from sklearn.preprocessing import OrdinalEncoder\n",
    "\n",
    "num_pipe = SimpleImputer(strategy=\"mean\", add_indicator=True)\n",
    "cat_pipe = make_pipeline(\n",
    "    SimpleImputer(strategy=\"constant\", fill_value=\"missing\"),\n",
    "    OrdinalEncoder(handle_unknown=\"use_encoded_value\", unknown_value=-1),\n",
    ")\n",
    "\n",
    "preprocessor_tree = make_column_transformer(\n",
    "    (num_pipe, make_column_selector(dtype_include=\"number\")),\n",
    "    (cat_pipe, make_column_selector(dtype_include=\"category\")),\n",
    "    n_jobs=2,\n",
    ")\n",
    "\n",
    "rf_clf = make_pipeline(\n",
    "    preprocessor_tree, RandomForestClassifier(random_state=42, n_jobs=2)\n",
    ")"
   ]
  },
  {
   "cell_type": "markdown",
   "metadata": {},
   "source": [
    "We can also set up a tree-based model with `RandomForestClassifier`. We will not need to scale the numerical data, and we will only need to ordinal encode the categorical data."
   ]
  },
  {
   "cell_type": "code",
   "execution_count": 7,
   "metadata": {},
   "outputs": [
    {
     "data": {
      "text/html": [
       "<div>\n",
       "<style scoped>\n",
       "    .dataframe tbody tr th:only-of-type {\n",
       "        vertical-align: middle;\n",
       "    }\n",
       "\n",
       "    .dataframe tbody tr th {\n",
       "        vertical-align: top;\n",
       "    }\n",
       "\n",
       "    .dataframe thead th {\n",
       "        text-align: right;\n",
       "    }\n",
       "</style>\n",
       "<table border=\"1\" class=\"dataframe\">\n",
       "  <thead>\n",
       "    <tr style=\"text-align: right;\">\n",
       "      <th></th>\n",
       "      <th>Accuracy</th>\n",
       "      <th>Balanced accuracy</th>\n",
       "    </tr>\n",
       "  </thead>\n",
       "  <tbody>\n",
       "    <tr>\n",
       "      <th>Logistic regression</th>\n",
       "      <td>0.966</td>\n",
       "      <td>0.512</td>\n",
       "    </tr>\n",
       "    <tr>\n",
       "      <th>Random forest</th>\n",
       "      <td>0.962</td>\n",
       "      <td>0.509</td>\n",
       "    </tr>\n",
       "  </tbody>\n",
       "</table>\n",
       "</div>"
      ],
      "text/plain": [
       "                     Accuracy  Balanced accuracy\n",
       "Logistic regression     0.966              0.512\n",
       "Random forest           0.962              0.509"
      ]
     },
     "execution_count": 7,
     "metadata": {},
     "output_type": "execute_result"
    }
   ],
   "source": [
    "index += [\"Random forest\"]\n",
    "cv_result = cross_validate(rf_clf, X, y, scoring=scoring)\n",
    "scores[\"Accuracy\"].append(cv_result[\"test_accuracy\"].mean())\n",
    "scores[\"Balanced accuracy\"].append(cv_result[\"test_balanced_accuracy\"].mean())\n",
    "\n",
    "df_scores = pd.DataFrame(scores, index=index).round(3)\n",
    "df_scores"
   ]
  },
  {
   "cell_type": "markdown",
   "metadata": {},
   "source": [
    "## Using weights\n",
    "\n",
    "We can set `class_weight=\"balanced\"` such that the weight applied is inversely proportional to the class frequency."
   ]
  },
  {
   "cell_type": "code",
   "execution_count": 8,
   "metadata": {},
   "outputs": [
    {
     "data": {
      "text/html": [
       "<div>\n",
       "<style scoped>\n",
       "    .dataframe tbody tr th:only-of-type {\n",
       "        vertical-align: middle;\n",
       "    }\n",
       "\n",
       "    .dataframe tbody tr th {\n",
       "        vertical-align: top;\n",
       "    }\n",
       "\n",
       "    .dataframe thead th {\n",
       "        text-align: right;\n",
       "    }\n",
       "</style>\n",
       "<table border=\"1\" class=\"dataframe\">\n",
       "  <thead>\n",
       "    <tr style=\"text-align: right;\">\n",
       "      <th></th>\n",
       "      <th>Accuracy</th>\n",
       "      <th>Balanced accuracy</th>\n",
       "    </tr>\n",
       "  </thead>\n",
       "  <tbody>\n",
       "    <tr>\n",
       "      <th>Logistic regression</th>\n",
       "      <td>0.966</td>\n",
       "      <td>0.512</td>\n",
       "    </tr>\n",
       "    <tr>\n",
       "      <th>Random forest</th>\n",
       "      <td>0.962</td>\n",
       "      <td>0.509</td>\n",
       "    </tr>\n",
       "    <tr>\n",
       "      <th>Logistic regression with balanced class weights</th>\n",
       "      <td>0.709</td>\n",
       "      <td>0.710</td>\n",
       "    </tr>\n",
       "  </tbody>\n",
       "</table>\n",
       "</div>"
      ],
      "text/plain": [
       "                                                 Accuracy  Balanced accuracy\n",
       "Logistic regression                                 0.966              0.512\n",
       "Random forest                                       0.962              0.509\n",
       "Logistic regression with balanced class weights     0.709              0.710"
      ]
     },
     "execution_count": 8,
     "metadata": {},
     "output_type": "execute_result"
    }
   ],
   "source": [
    "lr_clf.set_params(logisticregression__class_weight=\"balanced\")\n",
    "\n",
    "index += [\"Logistic regression with balanced class weights\"]\n",
    "cv_result = cross_validate(lr_clf, X, y, scoring=scoring)\n",
    "scores[\"Accuracy\"].append(cv_result[\"test_accuracy\"].mean())\n",
    "scores[\"Balanced accuracy\"].append(cv_result[\"test_balanced_accuracy\"].mean())\n",
    "\n",
    "df_scores = pd.DataFrame(scores, index=index).round(3)\n",
    "df_scores"
   ]
  },
  {
   "cell_type": "code",
   "execution_count": 9,
   "metadata": {},
   "outputs": [
    {
     "data": {
      "text/html": [
       "<div>\n",
       "<style scoped>\n",
       "    .dataframe tbody tr th:only-of-type {\n",
       "        vertical-align: middle;\n",
       "    }\n",
       "\n",
       "    .dataframe tbody tr th {\n",
       "        vertical-align: top;\n",
       "    }\n",
       "\n",
       "    .dataframe thead th {\n",
       "        text-align: right;\n",
       "    }\n",
       "</style>\n",
       "<table border=\"1\" class=\"dataframe\">\n",
       "  <thead>\n",
       "    <tr style=\"text-align: right;\">\n",
       "      <th></th>\n",
       "      <th>Accuracy</th>\n",
       "      <th>Balanced accuracy</th>\n",
       "    </tr>\n",
       "  </thead>\n",
       "  <tbody>\n",
       "    <tr>\n",
       "      <th>Logistic regression</th>\n",
       "      <td>0.966</td>\n",
       "      <td>0.512</td>\n",
       "    </tr>\n",
       "    <tr>\n",
       "      <th>Random forest</th>\n",
       "      <td>0.962</td>\n",
       "      <td>0.509</td>\n",
       "    </tr>\n",
       "    <tr>\n",
       "      <th>Logistic regression with balanced class weights</th>\n",
       "      <td>0.709</td>\n",
       "      <td>0.710</td>\n",
       "    </tr>\n",
       "    <tr>\n",
       "      <th>Random forest with balanced class weights</th>\n",
       "      <td>0.963</td>\n",
       "      <td>0.499</td>\n",
       "    </tr>\n",
       "  </tbody>\n",
       "</table>\n",
       "</div>"
      ],
      "text/plain": [
       "                                                 Accuracy  Balanced accuracy\n",
       "Logistic regression                                 0.966              0.512\n",
       "Random forest                                       0.962              0.509\n",
       "Logistic regression with balanced class weights     0.709              0.710\n",
       "Random forest with balanced class weights           0.963              0.499"
      ]
     },
     "execution_count": 9,
     "metadata": {},
     "output_type": "execute_result"
    }
   ],
   "source": [
    "rf_clf.set_params(randomforestclassifier__class_weight=\"balanced\")\n",
    "\n",
    "index += [\"Random forest with balanced class weights\"]\n",
    "cv_result = cross_validate(rf_clf, X, y, scoring=scoring)\n",
    "scores[\"Accuracy\"].append(cv_result[\"test_accuracy\"].mean())\n",
    "scores[\"Balanced accuracy\"].append(cv_result[\"test_balanced_accuracy\"].mean())\n",
    "\n",
    "df_scores = pd.DataFrame(scores, index=index).round(3)\n",
    "df_scores"
   ]
  },
  {
   "cell_type": "markdown",
   "metadata": {},
   "source": [
    "We can see that reweighting was really effective for logit, alleviating the issue of imbalanced classes. However, random forest is still biased toward the majority class, mainly due to the criterion which is not suited enough to fight the class imbalance."
   ]
  },
  {
   "cell_type": "markdown",
   "metadata": {},
   "source": [
    "## Undersampling\n"
   ]
  },
  {
   "cell_type": "code",
   "execution_count": 10,
   "metadata": {},
   "outputs": [],
   "source": [
    "from imblearn.pipeline import make_pipeline as make_pipeline_with_sampler\n",
    "from imblearn.under_sampling import RandomUnderSampler\n",
    "\n",
    "lr_clf = make_pipeline_with_sampler(\n",
    "    preprocessor_linear,\n",
    "    RandomUnderSampler(random_state=42),\n",
    "    LogisticRegression(max_iter=1000),\n",
    ")"
   ]
  },
  {
   "cell_type": "code",
   "execution_count": 11,
   "metadata": {},
   "outputs": [
    {
     "data": {
      "text/html": [
       "<div>\n",
       "<style scoped>\n",
       "    .dataframe tbody tr th:only-of-type {\n",
       "        vertical-align: middle;\n",
       "    }\n",
       "\n",
       "    .dataframe tbody tr th {\n",
       "        vertical-align: top;\n",
       "    }\n",
       "\n",
       "    .dataframe thead th {\n",
       "        text-align: right;\n",
       "    }\n",
       "</style>\n",
       "<table border=\"1\" class=\"dataframe\">\n",
       "  <thead>\n",
       "    <tr style=\"text-align: right;\">\n",
       "      <th></th>\n",
       "      <th>Accuracy</th>\n",
       "      <th>Balanced accuracy</th>\n",
       "    </tr>\n",
       "  </thead>\n",
       "  <tbody>\n",
       "    <tr>\n",
       "      <th>Logistic regression</th>\n",
       "      <td>0.966367</td>\n",
       "      <td>0.511905</td>\n",
       "    </tr>\n",
       "    <tr>\n",
       "      <th>Random forest</th>\n",
       "      <td>0.962265</td>\n",
       "      <td>0.508987</td>\n",
       "    </tr>\n",
       "    <tr>\n",
       "      <th>Logistic regression with balanced class weights</th>\n",
       "      <td>0.708774</td>\n",
       "      <td>0.709851</td>\n",
       "    </tr>\n",
       "    <tr>\n",
       "      <th>Random forest with balanced class weights</th>\n",
       "      <td>0.963088</td>\n",
       "      <td>0.498729</td>\n",
       "    </tr>\n",
       "    <tr>\n",
       "      <th>Under-sampling + Logistic regression</th>\n",
       "      <td>0.688278</td>\n",
       "      <td>0.664385</td>\n",
       "    </tr>\n",
       "  </tbody>\n",
       "</table>\n",
       "</div>"
      ],
      "text/plain": [
       "                                                 Accuracy  Balanced accuracy\n",
       "Logistic regression                              0.966367           0.511905\n",
       "Random forest                                    0.962265           0.508987\n",
       "Logistic regression with balanced class weights  0.708774           0.709851\n",
       "Random forest with balanced class weights        0.963088           0.498729\n",
       "Under-sampling + Logistic regression             0.688278           0.664385"
      ]
     },
     "execution_count": 11,
     "metadata": {},
     "output_type": "execute_result"
    }
   ],
   "source": [
    "index += [\"Under-sampling + Logistic regression\"]\n",
    "cv_result = cross_validate(lr_clf, X, y, scoring=scoring)\n",
    "scores[\"Accuracy\"].append(cv_result[\"test_accuracy\"].mean())\n",
    "scores[\"Balanced accuracy\"].append(cv_result[\"test_balanced_accuracy\"].mean())\n",
    "\n",
    "df_scores = pd.DataFrame(scores, index=index)\n",
    "df_scores"
   ]
  },
  {
   "cell_type": "code",
   "execution_count": 12,
   "metadata": {},
   "outputs": [],
   "source": [
    "rf_clf = make_pipeline_with_sampler(\n",
    "    preprocessor_tree,\n",
    "    RandomUnderSampler(random_state=42),\n",
    "    RandomForestClassifier(random_state=42, n_jobs=2),\n",
    ")"
   ]
  },
  {
   "cell_type": "code",
   "execution_count": 13,
   "metadata": {},
   "outputs": [
    {
     "data": {
      "text/html": [
       "<div>\n",
       "<style scoped>\n",
       "    .dataframe tbody tr th:only-of-type {\n",
       "        vertical-align: middle;\n",
       "    }\n",
       "\n",
       "    .dataframe tbody tr th {\n",
       "        vertical-align: top;\n",
       "    }\n",
       "\n",
       "    .dataframe thead th {\n",
       "        text-align: right;\n",
       "    }\n",
       "</style>\n",
       "<table border=\"1\" class=\"dataframe\">\n",
       "  <thead>\n",
       "    <tr style=\"text-align: right;\">\n",
       "      <th></th>\n",
       "      <th>Accuracy</th>\n",
       "      <th>Balanced accuracy</th>\n",
       "    </tr>\n",
       "  </thead>\n",
       "  <tbody>\n",
       "    <tr>\n",
       "      <th>Logistic regression</th>\n",
       "      <td>0.966367</td>\n",
       "      <td>0.511905</td>\n",
       "    </tr>\n",
       "    <tr>\n",
       "      <th>Random forest</th>\n",
       "      <td>0.962265</td>\n",
       "      <td>0.508987</td>\n",
       "    </tr>\n",
       "    <tr>\n",
       "      <th>Logistic regression with balanced class weights</th>\n",
       "      <td>0.708774</td>\n",
       "      <td>0.709851</td>\n",
       "    </tr>\n",
       "    <tr>\n",
       "      <th>Random forest with balanced class weights</th>\n",
       "      <td>0.963088</td>\n",
       "      <td>0.498729</td>\n",
       "    </tr>\n",
       "    <tr>\n",
       "      <th>Under-sampling + Logistic regression</th>\n",
       "      <td>0.688278</td>\n",
       "      <td>0.664385</td>\n",
       "    </tr>\n",
       "    <tr>\n",
       "      <th>Under-sampling + Random forest</th>\n",
       "      <td>0.712052</td>\n",
       "      <td>0.668787</td>\n",
       "    </tr>\n",
       "  </tbody>\n",
       "</table>\n",
       "</div>"
      ],
      "text/plain": [
       "                                                 Accuracy  Balanced accuracy\n",
       "Logistic regression                              0.966367           0.511905\n",
       "Random forest                                    0.962265           0.508987\n",
       "Logistic regression with balanced class weights  0.708774           0.709851\n",
       "Random forest with balanced class weights        0.963088           0.498729\n",
       "Under-sampling + Logistic regression             0.688278           0.664385\n",
       "Under-sampling + Random forest                   0.712052           0.668787"
      ]
     },
     "execution_count": 13,
     "metadata": {},
     "output_type": "execute_result"
    }
   ],
   "source": [
    "index += [\"Under-sampling + Random forest\"]\n",
    "cv_result = cross_validate(rf_clf, X, y, scoring=scoring)\n",
    "scores[\"Accuracy\"].append(cv_result[\"test_accuracy\"].mean())\n",
    "scores[\"Balanced accuracy\"].append(cv_result[\"test_balanced_accuracy\"].mean())\n",
    "\n",
    "df_scores = pd.DataFrame(scores, index=index)\n",
    "df_scores"
   ]
  },
  {
   "cell_type": "markdown",
   "metadata": {},
   "source": [
    "## Oversampling"
   ]
  },
  {
   "cell_type": "code",
   "execution_count": 15,
   "metadata": {},
   "outputs": [],
   "source": [
    "from imblearn.over_sampling import SMOTE\n",
    "\n",
    "lr_clf = make_pipeline_with_sampler(\n",
    "    preprocessor_linear,\n",
    "    SMOTE(random_state=42),\n",
    "    LogisticRegression(max_iter=1000),\n",
    ")"
   ]
  },
  {
   "cell_type": "code",
   "execution_count": 16,
   "metadata": {},
   "outputs": [
    {
     "data": {
      "text/html": [
       "<div>\n",
       "<style scoped>\n",
       "    .dataframe tbody tr th:only-of-type {\n",
       "        vertical-align: middle;\n",
       "    }\n",
       "\n",
       "    .dataframe tbody tr th {\n",
       "        vertical-align: top;\n",
       "    }\n",
       "\n",
       "    .dataframe thead th {\n",
       "        text-align: right;\n",
       "    }\n",
       "</style>\n",
       "<table border=\"1\" class=\"dataframe\">\n",
       "  <thead>\n",
       "    <tr style=\"text-align: right;\">\n",
       "      <th></th>\n",
       "      <th>Accuracy</th>\n",
       "      <th>Balanced accuracy</th>\n",
       "    </tr>\n",
       "  </thead>\n",
       "  <tbody>\n",
       "    <tr>\n",
       "      <th>Logistic regression</th>\n",
       "      <td>0.966367</td>\n",
       "      <td>0.511905</td>\n",
       "    </tr>\n",
       "    <tr>\n",
       "      <th>Random forest</th>\n",
       "      <td>0.962265</td>\n",
       "      <td>0.508987</td>\n",
       "    </tr>\n",
       "    <tr>\n",
       "      <th>Logistic regression with balanced class weights</th>\n",
       "      <td>0.708774</td>\n",
       "      <td>0.709851</td>\n",
       "    </tr>\n",
       "    <tr>\n",
       "      <th>Random forest with balanced class weights</th>\n",
       "      <td>0.963088</td>\n",
       "      <td>0.498729</td>\n",
       "    </tr>\n",
       "    <tr>\n",
       "      <th>Under-sampling + Logistic regression</th>\n",
       "      <td>0.688278</td>\n",
       "      <td>0.664385</td>\n",
       "    </tr>\n",
       "    <tr>\n",
       "      <th>Under-sampling + Random forest</th>\n",
       "      <td>0.712052</td>\n",
       "      <td>0.668787</td>\n",
       "    </tr>\n",
       "    <tr>\n",
       "      <th>SMOTE + Logistic regression</th>\n",
       "      <td>0.721902</td>\n",
       "      <td>0.683199</td>\n",
       "    </tr>\n",
       "  </tbody>\n",
       "</table>\n",
       "</div>"
      ],
      "text/plain": [
       "                                                 Accuracy  Balanced accuracy\n",
       "Logistic regression                              0.966367           0.511905\n",
       "Random forest                                    0.962265           0.508987\n",
       "Logistic regression with balanced class weights  0.708774           0.709851\n",
       "Random forest with balanced class weights        0.963088           0.498729\n",
       "Under-sampling + Logistic regression             0.688278           0.664385\n",
       "Under-sampling + Random forest                   0.712052           0.668787\n",
       "SMOTE + Logistic regression                      0.721902           0.683199"
      ]
     },
     "execution_count": 16,
     "metadata": {},
     "output_type": "execute_result"
    }
   ],
   "source": [
    "index += [\"SMOTE + Logistic regression\"]\n",
    "cv_result = cross_validate(lr_clf, X, y, scoring=scoring)\n",
    "scores[\"Accuracy\"].append(cv_result[\"test_accuracy\"].mean())\n",
    "scores[\"Balanced accuracy\"].append(cv_result[\"test_balanced_accuracy\"].mean())\n",
    "\n",
    "df_scores = pd.DataFrame(scores, index=index)\n",
    "df_scores"
   ]
  },
  {
   "cell_type": "code",
   "execution_count": 17,
   "metadata": {},
   "outputs": [],
   "source": [
    "rf_clf = make_pipeline_with_sampler(\n",
    "    preprocessor_tree,\n",
    "    SMOTE(random_state=42),\n",
    "    RandomForestClassifier(random_state=42, n_jobs=2),\n",
    ")"
   ]
  },
  {
   "cell_type": "code",
   "execution_count": 18,
   "metadata": {},
   "outputs": [
    {
     "data": {
      "text/html": [
       "<div>\n",
       "<style scoped>\n",
       "    .dataframe tbody tr th:only-of-type {\n",
       "        vertical-align: middle;\n",
       "    }\n",
       "\n",
       "    .dataframe tbody tr th {\n",
       "        vertical-align: top;\n",
       "    }\n",
       "\n",
       "    .dataframe thead th {\n",
       "        text-align: right;\n",
       "    }\n",
       "</style>\n",
       "<table border=\"1\" class=\"dataframe\">\n",
       "  <thead>\n",
       "    <tr style=\"text-align: right;\">\n",
       "      <th></th>\n",
       "      <th>Accuracy</th>\n",
       "      <th>Balanced accuracy</th>\n",
       "    </tr>\n",
       "  </thead>\n",
       "  <tbody>\n",
       "    <tr>\n",
       "      <th>Logistic regression</th>\n",
       "      <td>0.966367</td>\n",
       "      <td>0.511905</td>\n",
       "    </tr>\n",
       "    <tr>\n",
       "      <th>Random forest</th>\n",
       "      <td>0.962265</td>\n",
       "      <td>0.508987</td>\n",
       "    </tr>\n",
       "    <tr>\n",
       "      <th>Logistic regression with balanced class weights</th>\n",
       "      <td>0.708774</td>\n",
       "      <td>0.709851</td>\n",
       "    </tr>\n",
       "    <tr>\n",
       "      <th>Random forest with balanced class weights</th>\n",
       "      <td>0.963088</td>\n",
       "      <td>0.498729</td>\n",
       "    </tr>\n",
       "    <tr>\n",
       "      <th>Under-sampling + Logistic regression</th>\n",
       "      <td>0.688278</td>\n",
       "      <td>0.664385</td>\n",
       "    </tr>\n",
       "    <tr>\n",
       "      <th>Under-sampling + Random forest</th>\n",
       "      <td>0.712052</td>\n",
       "      <td>0.668787</td>\n",
       "    </tr>\n",
       "    <tr>\n",
       "      <th>SMOTE + Logistic regression</th>\n",
       "      <td>0.721902</td>\n",
       "      <td>0.683199</td>\n",
       "    </tr>\n",
       "    <tr>\n",
       "      <th>SMOTE + Random forest</th>\n",
       "      <td>0.930284</td>\n",
       "      <td>0.527269</td>\n",
       "    </tr>\n",
       "  </tbody>\n",
       "</table>\n",
       "</div>"
      ],
      "text/plain": [
       "                                                 Accuracy  Balanced accuracy\n",
       "Logistic regression                              0.966367           0.511905\n",
       "Random forest                                    0.962265           0.508987\n",
       "Logistic regression with balanced class weights  0.708774           0.709851\n",
       "Random forest with balanced class weights        0.963088           0.498729\n",
       "Under-sampling + Logistic regression             0.688278           0.664385\n",
       "Under-sampling + Random forest                   0.712052           0.668787\n",
       "SMOTE + Logistic regression                      0.721902           0.683199\n",
       "SMOTE + Random forest                            0.930284           0.527269"
      ]
     },
     "execution_count": 18,
     "metadata": {},
     "output_type": "execute_result"
    }
   ],
   "source": [
    "index += [\"SMOTE + Random forest\"]\n",
    "cv_result = cross_validate(rf_clf, X, y, scoring=scoring)\n",
    "scores[\"Accuracy\"].append(cv_result[\"test_accuracy\"].mean())\n",
    "scores[\"Balanced accuracy\"].append(cv_result[\"test_balanced_accuracy\"].mean())\n",
    "\n",
    "df_scores = pd.DataFrame(scores, index=index)\n",
    "df_scores"
   ]
  },
  {
   "cell_type": "code",
   "execution_count": null,
   "metadata": {},
   "outputs": [],
   "source": []
  }
 ],
 "metadata": {
  "kernelspec": {
   "display_name": "causalML",
   "language": "python",
   "name": "python3"
  },
  "language_info": {
   "codemirror_mode": {
    "name": "ipython",
    "version": 3
   },
   "file_extension": ".py",
   "mimetype": "text/x-python",
   "name": "python",
   "nbconvert_exporter": "python",
   "pygments_lexer": "ipython3",
   "version": "3.9.18"
  }
 },
 "nbformat": 4,
 "nbformat_minor": 2
}
